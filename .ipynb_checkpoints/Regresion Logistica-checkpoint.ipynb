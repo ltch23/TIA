{
 "cells": [
  {
   "cell_type": "code",
   "execution_count": 757,
   "metadata": {},
   "outputs": [],
   "source": [
    "import itertools\n",
    "import numpy as np\n",
    "import matplotlib.pyplot as mpl\n",
    "from random import random\n",
    "import math\n",
    "import pandas as pd"
   ]
  },
  {
   "cell_type": "markdown",
   "metadata": {},
   "source": [
    "# Funcion Logistica"
   ]
  },
  {
   "cell_type": "code",
   "execution_count": 758,
   "metadata": {},
   "outputs": [],
   "source": [
    "eps = np.finfo(float).eps\n",
    "eps=2.718281828459045235360287471352662497757247093699959574\n",
    "\n",
    "def sigmo(z):\n",
    "    #print(\"sigmo: \", z[0])\n",
    "    return (1/(1+eps**(-z[0])))"
   ]
  },
  {
   "cell_type": "markdown",
   "metadata": {},
   "source": [
    "# Prediccion"
   ]
  },
  {
   "cell_type": "code",
   "execution_count": 759,
   "metadata": {},
   "outputs": [],
   "source": [
    "def calc(x, theta):\n",
    "    suma = 0\n",
    "    #print(\"x: \", x)\n",
    "    for j in range(x.shape[0]):\n",
    "        suma+=x[j]*theta[j]\n",
    "    return suma\n",
    "\n",
    "def predict(x, theta):\n",
    "    y2 = []\n",
    "    for i in range(x.shape[0]):\n",
    "        #print(theta)\n",
    "        y2.append(sigmo(calc(x[i,:], theta)))\n",
    "    return y2"
   ]
  },
  {
   "cell_type": "markdown",
   "metadata": {},
   "source": [
    "# Gradiente"
   ]
  },
  {
   "cell_type": "code",
   "execution_count": 760,
   "metadata": {},
   "outputs": [],
   "source": [
    "def gradiente(X,Y,theta,alpha, num_iter):\n",
    "    for i in range(num_iter):\n",
    "        h_theta = (np.array(predict(X, theta)).reshape(18,1) - Y)\n",
    "        tmp = h_theta * X\n",
    "        gamma =  np.sum(tmp, axis=0).reshape(theta.shape[0],1)\n",
    "        theta = theta - ((alpha/X.shape[0]) * gamma)\n",
    "    \n",
    "    return theta"
   ]
  },
  {
   "cell_type": "markdown",
   "metadata": {},
   "source": [
    "# Funcion Costo"
   ]
  },
  {
   "cell_type": "code",
   "execution_count": 761,
   "metadata": {
    "scrolled": false
   },
   "outputs": [],
   "source": [
    "def logistic_cost(y2, y):\n",
    "    cost = 0\n",
    "    for i in range (len(y)):\n",
    "        ycal=y2[i]\n",
    "        #print(\"ycal=\", ycal, \" y=\", y[i][0])\n",
    "        cost+=(y[i][0]*np.log(ycal))+((1-y[i][0])*np.log(1-ycal))\n",
    "    \n",
    "    return cost/(-len(y))\n"
   ]
  },
  {
   "cell_type": "markdown",
   "metadata": {},
   "source": [
    "# Cargar los datos"
   ]
  },
  {
   "cell_type": "code",
   "execution_count": 762,
   "metadata": {},
   "outputs": [],
   "source": [
    "def get_y(y):\n",
    "    y=np.array(y)\n",
    "    y=y.reshape(len(y),1)\n",
    "    return y"
   ]
  },
  {
   "cell_type": "code",
   "execution_count": 763,
   "metadata": {},
   "outputs": [
    {
     "name": "stdout",
     "output_type": "stream",
     "text": [
      "[[ 0.0000e+00  2.7100e+01  2.6500e+01  2.0000e+01  5.3000e+01  4.6788e+04\n",
      "  -1.0000e+00]\n",
      " [ 1.0000e+00  2.7100e+01  2.8000e+01  2.2000e+01  3.0000e+00  5.0000e+04\n",
      "   1.0000e+00]\n",
      " [ 2.0000e+00  2.7600e+01  2.8000e+01  2.3000e+01  3.0000e+00  5.0000e+04\n",
      "   1.0000e+00]\n",
      " [ 3.0000e+00  2.7200e+01  2.6400e+01  2.8000e+01  8.0000e+00  6.0000e+04\n",
      "  -1.0000e+00]\n",
      " [ 4.0000e+00  2.8000e+01  2.4600e+01  3.0000e+01  3.0000e+00  5.0000e+04\n",
      "   1.0000e+00]\n",
      " [ 5.0000e+00  2.6400e+01  2.8400e+01  2.5000e+01  4.3000e+01  6.0235e+04\n",
      "  -1.0000e+00]\n",
      " [ 6.0000e+00  2.6100e+01  2.6900e+01  1.8000e+01  3.6400e+03  4.5000e+04\n",
      "  -1.0000e+00]\n",
      " [ 7.0000e+00  2.5700e+01  2.7900e+01  2.1000e+01  3.0000e+00  5.0000e+04\n",
      "   1.0000e+00]\n",
      " [ 8.0000e+00  2.5900e+01  2.8100e+01  2.0000e+01  3.0000e+00  5.0000e+04\n",
      "   1.0000e+00]\n",
      " [ 9.0000e+00  2.6600e+01  2.9600e+01  1.6000e+01  5.7000e+02  4.8665e+04\n",
      "  -1.0000e+00]\n",
      " [ 1.0000e+01  2.6000e+01  2.6400e+01  2.7000e+01  4.3000e+01  4.2354e+04\n",
      "  -1.0000e+00]\n",
      " [ 1.1000e+01  2.6700e+01  2.6000e+01  2.3000e+01  3.0000e+00  5.0000e+04\n",
      "   1.0000e+00]\n",
      " [ 1.2000e+01  2.6300e+01  2.4700e+01  2.5000e+01  6.7000e+01  5.1796e+04\n",
      "  -1.0000e+00]\n",
      " [ 1.3000e+01  2.6000e+01  2.8700e+01  2.9000e+01  3.0000e+00  5.0000e+04\n",
      "   1.0000e+00]\n",
      " [ 1.4000e+01  2.6300e+01  2.6900e+01  1.9000e+01  3.0000e+00  8.0093e+04\n",
      "   1.0000e+00]\n",
      " [ 1.5000e+01  2.6800e+01  2.7900e+01  2.1000e+01  2.8500e+03  3.5742e+04\n",
      "  -1.0000e+00]\n",
      " [ 1.6000e+01  2.6000e+01  2.8400e+01  2.5000e+01  2.5000e+01  4.9000e+04\n",
      "  -1.0000e+00]\n",
      " [ 1.7000e+01  2.5900e+01  2.7300e+01  1.9000e+01  3.0000e+00  5.0000e+04\n",
      "  -1.0000e+00]]\n",
      "(18, 7)\n"
     ]
    }
   ],
   "source": [
    "y=[0,0,2,0,1,0,2,2,1,0,2,0,1,2,2,2,1,1]\n",
    "\n",
    "size=18\n",
    "variables=7\n",
    "#gana\n",
    "y_gana=  [0,0,1,0,0,0,1,1,0,0,1,0,0,1,1,1,0,0]\n",
    "y_empata=[0,0,0,0,1,0,0,0,1,0,0,0,1,0,0,0,1,1]\n",
    "y_pierde=[1,1,0,1,0,1,0,0,0,1,0,1,0,0,0,0,0,0]\n",
    "\n",
    "y_gana = get_y(y_gana)\n",
    "y_empata = get_y(y_empata)\n",
    "y_pierde = get_y(y_pierde)\n",
    "\n",
    "#---------- Obtengo la data\n",
    "data = np.loadtxt('puntos.txt',delimiter=\",\")\n",
    "X = data[:,:variables]\n",
    "print(X)\n",
    "print(X.shape)"
   ]
  },
  {
   "cell_type": "markdown",
   "metadata": {},
   "source": [
    "# Normalizar los datos"
   ]
  },
  {
   "cell_type": "code",
   "execution_count": 764,
   "metadata": {},
   "outputs": [
    {
     "name": "stdout",
     "output_type": "stream",
     "text": [
      "(18, 7)\n"
     ]
    }
   ],
   "source": [
    "#entre 0-1\n",
    "def normalized(array, size):\n",
    "    new_array=np.zeros(size)\n",
    "    _min=np.min(array)\n",
    "    _max=np.max(array)\n",
    "    minmax=_max-_min\n",
    "    for i in range (0,len(array)):\n",
    "        new_array[i]=(array[i]-_min)/minmax\n",
    "    \n",
    "    return new_array            \n",
    "\n",
    "for i in range (2,variables):\n",
    "    X[:,i]= normalized(X[:,i], size)\n",
    "print(X.shape)"
   ]
  },
  {
   "cell_type": "markdown",
   "metadata": {},
   "source": [
    "# Calcular theta"
   ]
  },
  {
   "cell_type": "code",
   "execution_count": 766,
   "metadata": {},
   "outputs": [],
   "source": [
    "theta_gana = np.zeros((variables,1))\n",
    "theta_empata = np.zeros((variables,1))\n",
    "theta_pierde = np.zeros((variables,1))"
   ]
  },
  {
   "cell_type": "code",
   "execution_count": 773,
   "metadata": {},
   "outputs": [
    {
     "name": "stdout",
     "output_type": "stream",
     "text": [
      "[[ 0.09090952]\n",
      " [-0.12457182]\n",
      " [ 0.96391644]\n",
      " [ 0.56161432]\n",
      " [ 3.47697572]\n",
      " [-0.12063455]\n",
      " [ 1.8342125 ]]\n",
      "[[ 0.20453174]\n",
      " [-0.06011504]\n",
      " [-2.30188553]\n",
      " [ 0.6913745 ]\n",
      " [-1.96859818]\n",
      " [-0.87087782]\n",
      " [-0.0817    ]]\n",
      "[[-0.29419098]\n",
      " [ 0.08142661]\n",
      " [ 0.9826097 ]\n",
      " [-1.08792475]\n",
      " [-1.92796057]\n",
      " [ 0.93215709]\n",
      " [-1.72231267]]\n"
     ]
    }
   ],
   "source": [
    "#Calcular theta si gana\n",
    "theta_gana = gradiente(X,y_gana,theta_gana,0.001,100000)\n",
    "print(theta_gana)\n",
    "\n",
    "#Calcular theta si empata\n",
    "theta_empata = gradiente(X,y_empata,theta_empata,0.001,100000)\n",
    "print(theta_empata)\n",
    "\n",
    "#Calcular theta si pierde\n",
    "theta_pierde = gradiente(X,y_pierde,theta_pierde,0.001,100000)\n",
    "print(theta_pierde)\n",
    "\n"
   ]
  },
  {
   "cell_type": "markdown",
   "metadata": {},
   "source": [
    "# Predecir resultados"
   ]
  },
  {
   "cell_type": "code",
   "execution_count": 774,
   "metadata": {},
   "outputs": [
    {
     "name": "stdout",
     "output_type": "stream",
     "text": [
      "[0.055651209777147416, 0.3558549175352071, 0.37176276227764027, 0.0871904169159507, 0.31705747397712514, 0.14567732556000282, 0.7806672313591556, 0.5167595129823633, 0.5328276296555896, 0.26413116145242416, 0.17927925392125915, 0.5050177876728382, 0.14338059400882455, 0.7408320943383211, 0.5680304676802768, 0.8297158079185588, 0.3305429822500778, 0.2537200998719861]\n",
      "[0.07240890619490373, 0.04499198819222378, 0.05565197573158175, 0.14973979942903223, 0.36926056051186773, 0.08533660727467633, 0.030700332477802416, 0.14839691598308907, 0.15496476025044392, 0.06781066440636106, 0.5113445644552593, 0.4960666265636728, 0.7154279404004772, 0.37488773652328833, 0.35873133083019326, 0.20482160185291864, 0.5330259018570023, 0.6330265411425389]\n",
      "[0.9223615267234828, 0.6663559658117041, 0.5891766574382955, 0.7791398608110711, 0.19664675720391467, 0.7720097078152991, 0.2541296592343501, 0.24428346420085775, 0.21581398116764822, 0.6158300808868846, 0.23003544139525672, 0.0598901952396337, 0.14616429354473043, 0.0344061262007257, 0.072531647313438, 0.029891374298370528, 0.09316657632245418, 0.09152591478775088]\n",
      "0.055651209777147416  0.07240890619490373  0.9223615267234828\n",
      "pierde\n",
      "0.3558549175352071  0.04499198819222378  0.6663559658117041\n",
      "pierde\n",
      "0.37176276227764027  0.05565197573158175  0.5891766574382955\n",
      "pierde\n",
      "0.0871904169159507  0.14973979942903223  0.7791398608110711\n",
      "pierde\n",
      "0.31705747397712514  0.36926056051186773  0.19664675720391467\n",
      "empata\n",
      "0.14567732556000282  0.08533660727467633  0.7720097078152991\n",
      "pierde\n",
      "0.7806672313591556  0.030700332477802416  0.2541296592343501\n",
      "gana\n",
      "0.5167595129823633  0.14839691598308907  0.24428346420085775\n",
      "gana\n",
      "0.5328276296555896  0.15496476025044392  0.21581398116764822\n",
      "gana\n",
      "0.26413116145242416  0.06781066440636106  0.6158300808868846\n",
      "pierde\n",
      "0.17927925392125915  0.5113445644552593  0.23003544139525672\n",
      "empata\n",
      "0.5050177876728382  0.4960666265636728  0.0598901952396337\n",
      "gana\n",
      "0.14338059400882455  0.7154279404004772  0.14616429354473043\n",
      "empata\n",
      "0.7408320943383211  0.37488773652328833  0.0344061262007257\n",
      "gana\n",
      "0.5680304676802768  0.35873133083019326  0.072531647313438\n",
      "gana\n",
      "0.8297158079185588  0.20482160185291864  0.029891374298370528\n",
      "gana\n",
      "0.3305429822500778  0.5330259018570023  0.09316657632245418\n",
      "empata\n",
      "0.2537200998719861  0.6330265411425389  0.09152591478775088\n",
      "empata\n"
     ]
    }
   ],
   "source": [
    "def predict_mult(X, thetha_gana, theta_pierde, thetha_empata):\n",
    "    y_pred_gana=predict(X,theta_gana)\n",
    "    y_pred_empata=predict(X,theta_empata)\n",
    "    y_pred_pierde=predict(X,theta_pierde)\n",
    "    res=[]\n",
    "    print(y_pred_gana)\n",
    "    print(y_pred_empata)\n",
    "    print(y_pred_pierde)\n",
    "    for i in range(len(y_pred_gana)):\n",
    "        print(y_pred_gana[i],\"\", y_pred_empata[i],\"\", y_pred_pierde[i])\n",
    "        if (y_pred_gana[i]>y_pred_empata[i] and y_pred_gana[i]>y_pred_pierde[i]):\n",
    "            print(\"gana\")\n",
    "            res.append(2)\n",
    "        elif (y_pred_empata[i]>y_pred_gana[i] and y_pred_empata[i]>y_pred_pierde[i]):\n",
    "            print(\"empata\")\n",
    "            res.append(1)\n",
    "        elif (y_pred_pierde[i]>y_pred_empata[i] and y_pred_pierde[i]>y_pred_gana[i]):\n",
    "            print(\"pierde\")\n",
    "            res.append(0)\n",
    "    return res\n",
    "\n",
    "y_values_calc=predict_mult(X, theta_gana, theta_pierde, theta_empata)"
   ]
  },
  {
   "cell_type": "code",
   "execution_count": 775,
   "metadata": {},
   "outputs": [
    {
     "name": "stdout",
     "output_type": "stream",
     "text": [
      "[0, 0, 2, 0, 1, 0, 2, 2, 1, 0, 2, 0, 1, 2, 2, 2, 1, 1]\n",
      "[0, 0, 0, 0, 1, 0, 2, 2, 2, 0, 1, 2, 1, 2, 2, 2, 1, 1]\n"
     ]
    }
   ],
   "source": [
    "print(y)\n",
    "print(y_values_calc)"
   ]
  },
  {
   "cell_type": "code",
   "execution_count": 776,
   "metadata": {},
   "outputs": [
    {
     "name": "stdout",
     "output_type": "stream",
     "text": [
      "Costo Gana\n",
      "0.6249386362613012\n",
      "Costo Empata\n",
      "0.7000341118644606\n",
      "Costo Pierde\n",
      "0.6605160313543071\n"
     ]
    }
   ],
   "source": [
    "print(\"Costo Gana\")\n",
    "print(logistic_cost(y_pred_gana, y_gana))\n",
    "print(\"Costo Empata\")\n",
    "print(logistic_cost(y_pred_empata, y_empata))\n",
    "print(\"Costo Pierde\")\n",
    "print(logistic_cost(y_pred_pierde, y_pierde))"
   ]
  },
  {
   "cell_type": "markdown",
   "metadata": {},
   "source": [
    "# Matriz de Confusion"
   ]
  },
  {
   "cell_type": "code",
   "execution_count": 777,
   "metadata": {},
   "outputs": [],
   "source": [
    "def plot_confusion_matrix(cm, classes,\n",
    "                          normalize=False,\n",
    "                          title='Confusion matrix',\n",
    "                          cmap=mpl.cm.Blues):\n",
    "    if normalize:\n",
    "        cm = cm.astype('float') / cm.sum(axis=1)[:, np.newaxis]\n",
    "        \n",
    "    mpl.imshow(cm, interpolation='nearest', cmap=cmap)\n",
    "    mpl.title(title)\n",
    "    mpl.colorbar()\n",
    "    tick_marks = np.arange(len(classes))\n",
    "    mpl.xticks(tick_marks, classes, rotation=45)\n",
    "    mpl.yticks(tick_marks, classes)\n",
    "\n",
    "    fmt = '.2f' if normalize else 'd'\n",
    "    thresh = cm.max() / 2.\n",
    "    for i, j in itertools.product(range(cm.shape[0]), range(cm.shape[1])):\n",
    "        mpl.text(j, i, format(cm[i, j], fmt),\n",
    "                 horizontalalignment=\"center\",\n",
    "                 color=\"white\" if cm[i, j] > thresh else \"black\")\n",
    "\n",
    "    mpl.tight_layout()\n",
    "    mpl.ylabel('Valores Calculados')\n",
    "    mpl.xlabel('Valores Reales')"
   ]
  },
  {
   "cell_type": "code",
   "execution_count": 778,
   "metadata": {},
   "outputs": [
    {
     "data": {
      "image/png": "[encoded data removed]",
      "text/plain": [
       "<matplotlib.figure.Figure at 0x7f94184e2eb8>"
      ]
     },
     "metadata": {},
     "output_type": "display_data"
    },
    {
     "data": {
      "image/png": "[encoded data removed]",
      "text/plain": [
       "<matplotlib.figure.Figure at 0x7f940e886978>"
      ]
     },
     "metadata": {},
     "output_type": "display_data"
    }
   ],
   "source": [
    "def conf_matr(values, y, y2):\n",
    "    mat = np.zeros((3,3), dtype=int)\n",
    "    for i in range(len(y)):\n",
    "        mat[y[i]][y2[i]]+=1    \n",
    "    names=['gana', 'empata', 'pierde']\n",
    "    mpl.figure()\n",
    "    plot_confusion_matrix(mat, classes=names,\n",
    "                          title='Matriz de confusion')\n",
    "    mpl.figure()\n",
    "    plot_confusion_matrix(matriz, classes=names, normalize=True,\n",
    "                          title='Matriz de confusion normalizada')\n",
    "    \n",
    "conf_matr([0,1,2], y, y_values_calc)"
   ]
  },
  {
   "cell_type": "code",
   "execution_count": null,
   "metadata": {},
   "outputs": [],
   "source": []
  }
 ],
 "metadata": {
  "kernelspec": {
   "display_name": "Python 3",
   "language": "python",
   "name": "python3"
  },
  "language_info": {
   "codemirror_mode": {
    "name": "ipython",
    "version": 3
   },
   "file_extension": ".py",
   "mimetype": "text/x-python",
   "name": "python",
   "nbconvert_exporter": "python",
   "pygments_lexer": "ipython3",
   "version": "3.6.4"
  }
 },
 "nbformat": 4,
 "nbformat_minor": 2
}
