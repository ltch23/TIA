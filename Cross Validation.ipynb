{
 "cells": [
  {
   "cell_type": "markdown",
   "metadata": {},
   "source": [
    "# Gradiente Multivariable"
   ]
  },
  {
   "cell_type": "code",
   "execution_count": 2,
   "metadata": {},
   "outputs": [],
   "source": [
    "import numpy as np\n",
    "import matplotlib.pyplot as mpl\n",
    "import random"
   ]
  },
  {
   "cell_type": "code",
   "execution_count": 3,
   "metadata": {},
   "outputs": [],
   "source": [
    "#funcion de costo\n",
    "#m->theta1\n",
    "#b->theta0\n",
    "def costo(X,y,theta):\n",
    "    theta0=theta[0,0]\n",
    "    theta0=theta[1,0]\n",
    "    \n",
    "    temp=theta0*X[:,0]+theta1*X[:,1] - y\n",
    "    \n",
    "    return np.dot(temp.T,temp) #multiplica fila por columna\n",
    "#costo(x,y,theta)"
   ]
  },
  {
   "cell_type": "code",
   "execution_count": 3,
   "metadata": {},
   "outputs": [],
   "source": [
    "def derivada(X,y,theta):\n",
    "    theta0=theta[0,0]\n",
    "    theta1=theta[1,0]\n",
    "    \n",
    "    temp=(theta0*X[:,0]+theta1*X[:,1] - y)    \n",
    "    return temp.sum()"
   ]
  },
  {
   "cell_type": "code",
   "execution_count": 4,
   "metadata": {},
   "outputs": [],
   "source": [
    "#gradiente lineal\n",
    "def gradiente(X,y,theta,alpha,num_iter):\n",
    "    m = X.shape[0]\n",
    "    theta0 = theta[0,0]\n",
    "    theta1 = theta[1,0]\n",
    "    for i in range(num_iter):\n",
    "        sumatoria = (theta[0,0] *X[:,0]+theta[1,0] *X[:,1] - y).sum()\n",
    "        #sumatoria = derivada(X,y,theta)\n",
    "        theta0 = theta[0,0] - (alpha/m) * sumatoria #*X[:0]=1\n",
    "        theta1 = theta[1,0] - ((alpha/m)* sumatoria * X[:1]).sum()\n",
    "        theta[0,0]=theta0\n",
    "        theta[1,0]=theta1\n",
    "        \n",
    "        #print(\"Mi theta0 =\",theta0,\" theta1 = \",theta1)\n",
    "        \n",
    "    return np.array([[theta0],[theta1]])\n"
   ]
  },
  {
   "cell_type": "code",
   "execution_count": 5,
   "metadata": {},
   "outputs": [
    {
     "name": "stdout",
     "output_type": "stream",
     "text": [
      "[[0.58333333]\n",
      " [1.16666667]]\n"
     ]
    },
    {
     "data": {
      "text/plain": [
       "[<matplotlib.lines.Line2D at 0x7f7913150630>]"
      ]
     },
     "execution_count": 5,
     "metadata": {},
     "output_type": "execute_result"
    },
    {
     "data": {
      "image/png": "[encoded data removed]",
      "text/plain": [
       "<matplotlib.figure.Figure at 0x7f791319fa90>"
      ]
     },
     "metadata": {},
     "output_type": "display_data"
    }
   ],
   "source": [
    "#init: Creando una matriz plantilla (2)\n",
    "X = np.ones((18,2))tamTheta = np.size(X,1)\n",
    "theta = np.zeros(tamTheta).reshape((tamTheta,1))\n",
    "X[:,1] = np.arange(1,19)\n",
    "Y=np.array([0,0,3,3,4,4,7,10,11,11,14,14,15,18,21,24,25,26])\n",
    "Y = Y.reshape(len(Y),1)\n",
    "#theta = np.zeros(2).reshape((2,1))\n",
    "\n",
    "theta = gradiente(X,Y,theta,0.0001,100000)\n",
    "print (theta)\n",
    "\n",
    "mpl.plot(X[:,1],Y,'o')\n",
    "mpl.plot(X[:,1],theta[1][0]*X[:,1]+theta[0][0])\n"
   ]
  },
  {
   "cell_type": "markdown",
   "metadata": {},
   "source": [
    "## Regresion Linear"
   ]
  },
  {
   "cell_type": "code",
   "execution_count": 27,
   "metadata": {},
   "outputs": [],
   "source": [
    "def regresion_linear(x,y):\n",
    "    xt = np.transpose(x)\n",
    "    tx = np.dot(xt, x)\n",
    "    ty = np.dot(xt, y)\n",
    "    theta = np.dot(np.linalg.inv(tx),ty)\n",
    "    return theta\n"
   ]
  },
  {
   "cell_type": "code",
   "execution_count": 29,
   "metadata": {},
   "outputs": [
    {
     "name": "stdout",
     "output_type": "stream",
     "text": [
      "[[-3.41176471]\n",
      " [ 1.5872033 ]]\n"
     ]
    },
    {
     "data": {
      "text/plain": [
       "[<matplotlib.lines.Line2D at 0x7f790732c748>]"
      ]
     },
     "execution_count": 29,
     "metadata": {},
     "output_type": "execute_result"
    },
    {
     "data": {
      "image/png": "[encoded data removed]",
      "text/plain": [
       "<matplotlib.figure.Figure at 0x7f790732c518>"
      ]
     },
     "metadata": {},
     "output_type": "display_data"
    }
   ],
   "source": [
    "#creando una matriz plantilla\n",
    "x= np.ones((18,2))\n",
    "x[:,1] = np.arange(1,19)\n",
    "#print(x)\n",
    "\n",
    "# creo theta\n",
    "tamTheta = np.size(x,1)\n",
    "theta = np.zeros(tamTheta).reshape((tamTheta,1))\n",
    "#print(theta)\n",
    "\n",
    "y=np.array([0,0,3,3,4,4,7,10,11,11,14,14,15,18,21,24,25,26])\n",
    "y=y.reshape(len(y),1)\n",
    "#print(y)\n",
    "\n",
    "theta = regresion_linear(x,y)\n",
    "print(theta)\n",
    "\n",
    "mpl.plot(x[:,1],y,'o')\n",
    "mpl.plot(x[:,1],theta[0][0]+theta[1][0]*x[:,1])"
   ]
  },
  {
   "cell_type": "markdown",
   "metadata": {},
   "source": [
    "### Multivariable"
   ]
  },
  {
   "cell_type": "code",
   "execution_count": 10,
   "metadata": {},
   "outputs": [
    {
     "name": "stdout",
     "output_type": "stream",
     "text": [
      "[[-1.55173353e+01]\n",
      " [ 1.54311838e+00]\n",
      " [ 4.74024478e-01]\n",
      " [ 3.03552398e-01]\n",
      " [ 6.15260734e-03]\n",
      " [-3.40653396e-04]\n",
      " [-1.60604974e-04]\n",
      " [-1.03200269e+00]]\n"
     ]
    },
    {
     "data": {
      "text/plain": [
       "[<matplotlib.lines.Line2D at 0x7f79101074e0>]"
      ]
     },
     "execution_count": 10,
     "metadata": {},
     "output_type": "execute_result"
    },
    {
     "data": {
      "image/png": "[encoded data removed]",
      "text/plain": [
       "<matplotlib.figure.Figure at 0x7f7910172400>"
      ]
     },
     "metadata": {},
     "output_type": "display_data"
    }
   ],
   "source": [
    "x= np.ones((18,8))\n",
    "x[:,1] =np.arange(1,19) \n",
    "x[:,2] =[27.1,27.1,27.6,27.2,28.0,26.4,26.1,25.7,25.9,26.6,26,26.7,26.3,26,26.3,26.8,26.28,25.9]\n",
    "x[:,3] =[26.5,28.22,28.23,26.4,24.6,28.4,26.9,27.9,28.1,29.6,26.4,26,24.7,28.7,26.9,27.9,28.4,27.3]\n",
    "x[:,4] =[20,22,23,28,30,25,18,21,20,16,27,23,25,29,19,21,25,19] \n",
    "x[:,5] =[53,3,3,8,3,43,3640,3,3,570,43,3,67,3,3,2850,25,3]\n",
    "x[:,6] =[46788,50000,50000,60000,50000,60235,45000,50000,50000,48665,42354,50000,51796,50000,40093,35742,49000,50000]\n",
    "#x[:,7] =[-1,1,1,-1,1,-1,-1,1,1,-1,-1,1,-1,1,1,-1,-1,1] \n",
    "x[:,7] =[0.3,0.7,0.7,0.3,0.7,0.3,0.4,0.7,0.7,0.3,0.3,0.7,0.3,0.7,0.7,0.3,0.3,0.3] \n",
    "\n",
    "# creo theta\n",
    "tamTheta = np.size(x,1)\n",
    "theta = np.zeros(tamTheta).reshape((tamTheta,1))\n",
    "#print(theta)\n",
    "\n",
    "y=np.array([0,0,3,3,4,4,7,10,11,11,14,14,15,18,21,24,25,26])\n",
    "y=y.reshape(len(y),1)\n",
    "#print(y)\n",
    "\n",
    "theta = regresion_linear(x,y)\n",
    "print(theta)\n",
    "\n",
    "mpl.plot(x[:,1],y,'o')\n",
    "mpl.plot(x[:,1],theta[0][0]+theta[1][0]*x[:,1]+theta[2][0]*x[:,2]+theta[3][0]*x[:,3]+theta[4][0]*x[:,4]+theta[5][0]*x[:,5]+theta[6][0]*x[:,6]+theta[7][0]*x[:,7])\n"
   ]
  },
  {
   "cell_type": "markdown",
   "metadata": {},
   "source": [
    "## Cross Validation"
   ]
  },
  {
   "cell_type": "code",
   "execution_count": 209,
   "metadata": {},
   "outputs": [],
   "source": [
    "def partir(x,porcent):\n",
    "    tam = x.shape[0]\n",
    "    tam_test = round(tam*porcent/100)\n",
    "    tam_train = tam-tam_test\n",
    "    arreglo = np.arange(0,tam)\n",
    "    rand = random.shuffle(arreglo)\n",
    "    train = arreglo[:tam_train]\n",
    "    test =arreglo[tam_train:]\n",
    "    \n",
    "    return train,test\n",
    "\n",
    "#indices = partir(x,15) #15 % para test\n",
    "#print(train)\n",
    "#print(indices)\n"
   ]
  },
  {
   "cell_type": "code",
   "execution_count": 202,
   "metadata": {},
   "outputs": [],
   "source": [
    "def construir(indices,X,Y):\n",
    "    matrizx = np.zeros((len(indices),X.shape[1]))\n",
    "    matrizy = np.zeros((len(indices),Y.shape[1]))    \n",
    "    for i in range(0,len(indices)):\n",
    "        matrizx[i,:]=X[indices[i]]\n",
    "        matrizy[i,:]=Y[indices[i]]\n",
    "\n",
    "    return matrizx,matrizy\n",
    "\n",
    "#matrizx,matrizy =construir(train,x,y)\n",
    "#print(matrizx)\n",
    "#print(matrizy)"
   ]
  },
  {
   "cell_type": "code",
   "execution_count": 217,
   "metadata": {},
   "outputs": [],
   "source": [
    "def train(X,Y) :\n",
    "    indices = partir(X,15) #parte en 15% -> 3 datos\n",
    "    nMatrizX,nMatrizY = construir(indices[0],X,Y)\n",
    "    theta = regresion_linear(nMatrizX, nMatrizY)\n",
    "    return theta"
   ]
  },
  {
   "cell_type": "code",
   "execution_count": 218,
   "metadata": {},
   "outputs": [
    {
     "name": "stdout",
     "output_type": "stream",
     "text": [
      "[[-8.16771508e-01]\n",
      " [ 1.48225197e+00]\n",
      " [ 6.15320049e-02]\n",
      " [ 3.33074152e-01]\n",
      " [ 1.14777015e-01]\n",
      " [-7.59429499e-04]\n",
      " [-2.69390897e-04]\n",
      " [-2.91177511e+00]]\n"
     ]
    },
    {
     "data": {
      "text/plain": [
       "[<matplotlib.lines.Line2D at 0x7fbe0c58b080>]"
      ]
     },
     "execution_count": 218,
     "metadata": {},
     "output_type": "execute_result"
    },
    {
     "data": {
      "image/png": "[encoded data removed]",
      "text/plain": [
       "<matplotlib.figure.Figure at 0x7fbe0d7946d8>"
      ]
     },
     "metadata": {},
     "output_type": "display_data"
    }
   ],
   "source": [
    "theta = train(x,y)\n",
    "print(theta)\n",
    "\n",
    "mpl.plot(x[:,1],y,'o')\n",
    "mpl.plot(x[:,1],theta[0][0]+theta[1][0]*x[:,1]+theta[2][0]*x[:,2]+theta[3][0]*x[:,3]+theta[4][0]*x[:,4]+theta[5][0]*x[:,5]+theta[6][0]*x[:,6]+theta[7][0]*x[:,7])\n"
   ]
  }
 ],
 "metadata": {
  "kernelspec": {
   "display_name": "Python 3",
   "language": "python",
   "name": "python3"
  },
  "language_info": {
   "codemirror_mode": {
    "name": "ipython",
    "version": 3
   },
   "file_extension": ".py",
   "mimetype": "text/x-python",
   "name": "python",
   "nbconvert_exporter": "python",
   "pygments_lexer": "ipython3",
   "version": "3.6.4"
  }
 },
 "nbformat": 4,
 "nbformat_minor": 2
}
