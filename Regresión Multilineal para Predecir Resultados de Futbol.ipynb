{
 "cells": [
  {
   "cell_type": "markdown",
   "metadata": {},
   "source": [
    "# Regresion Multilineal para Predecir Resultados de Futbol"
   ]
  },
  {
   "cell_type": "code",
   "execution_count": 111,
   "metadata": {},
   "outputs": [],
   "source": [
    "#importando las librerias de numy y matplot\n",
    "import numpy as np\n",
    "import matplotlib.pyplot as mpl"
   ]
  },
  {
   "cell_type": "code",
   "execution_count": 124,
   "metadata": {},
   "outputs": [],
   "source": [
    "#creando una matrix plantilla(1)\n",
    "y=[0,0,3,3,4,4,7,10,11,11,14,14,15,18,21,24,25,26]\n",
    "x= np.ones((18,8))\n",
    "x[:,1] =np.arange(18) \n",
    "x[:,2] =[27.1,27.1,27.6,27.2,28.0,26.4,26.1,25.7,25.9,26.6,26,26.7,26.3,26,26.3,26.8,26.28,25.9]\n",
    "x[:,3] =[26.5,28.22,28.23,26.4,24.6,28.4,26.9,27.9,28.1,29.6,26.4,26,24.7,28.7,26.9,27.9,28.4,27.3]\n",
    "x[:,4] =[20,22,23,28,30,25,18,21,20,16,27,23,25,29,19,21,25,19] \n",
    "x[:,5] =[53,3,3,8,3,43,3640,3,3,570,43,3,67,3,3,2850,25,3]\n",
    "x[:,6] =[46788,50000,50000,60000,50000,60235,45000,50000,50000,48665,42354,50000,51796,50000,40093,35742,49000,50000]\n",
    "#x[:,7] =[-1,1,1,-1,1,-1,-1,1,1,-1,-1,1,-1,1,1,-1,-1,1] \n",
    "x[:,7] =[0.3,0.7,0.7,0.3,0.7,0.3,0.4,0.7,0.7,0.3,0.3,0.7,0.3,0.7,0.7,0.3,0.3,0.3] \n",
    "\n",
    "#x[:,8] =[-1,1,1,-1,1,-1,-1,1,1,-1,-1,1,-1,1,1,-1,-1,-1]\n"
   ]
  },
  {
   "cell_type": "code",
   "execution_count": 125,
   "metadata": {},
   "outputs": [],
   "source": [
    "#entre 0-1\n",
    "def normalized(array):\n",
    "    new_array=np.zeros(18)\n",
    "    _min=np.min(array)\n",
    "    _max=np.max(array)\n",
    "    minmax=_max-_min\n",
    "    for i in range (0,18):\n",
    "        new_array[i]=(array[i]-_min)/minmax\n",
    "        \n",
    "    return new_array            \n",
    "\n",
    "for i in range (2,7):\n",
    "    x[:,i]= normalized(x[:,i])\n",
    " \n",
    "    "
   ]
  },
  {
   "cell_type": "code",
   "execution_count": 126,
   "metadata": {},
   "outputs": [],
   "source": [
    "#Gradiente \n",
    "def gradiente(X,y,theta,alpha,num_iter):\n",
    "    \n",
    "    m=X.shape[0]\n",
    "    \n",
    "    theta0= theta[0,0]\n",
    "    theta1= theta[1,0]\n",
    "    theta2= theta[2,0]\n",
    "    theta3= theta[3,0]\n",
    "    theta4= theta[4,0]\n",
    "    theta5= theta[5,0]\n",
    "    theta6= theta[6,0]\n",
    "    theta7= theta[7,0]\n",
    "    \n",
    "    for i in range (num_iter):\n",
    "        tmp=(theta0*X[:,0]+ theta1*X[:,1]+ theta2*X[:,2]+ theta3*X[:,3]+ theta4*X[:,4]\n",
    "             + theta5*X[:,5]+ theta6*X[:,6]+ theta7*X[:,7] -y)\n",
    "        \n",
    "        tmp0=(tmp*X[:,0]).sum()\n",
    "        tmp1=(tmp*X[:,1]).sum()\n",
    "        tmp2=(tmp*X[:,2]).sum()\n",
    "        tmp3=(tmp*X[:,3]).sum()\n",
    "        tmp4=(tmp*X[:,4]).sum()\n",
    "        tmp5=(tmp*X[:,5]).sum()\n",
    "        tmp6=(tmp*X[:,6]).sum()\n",
    "        tmp7=(tmp*X[:,7]).sum()\n",
    "        \n",
    "        theta0=theta0-alpha*(1/m)*tmp0\n",
    "        theta1=theta1-alpha*(1/m)*tmp1\n",
    "        theta2=theta2-alpha*(1/m)*tmp2\n",
    "        theta3=theta3-alpha*(1/m)*tmp3\n",
    "        theta4=theta4-alpha*(1/m)*tmp4\n",
    "        theta5=theta5-alpha*(1/m)*tmp5\n",
    "        theta6=theta6-alpha*(1/m)*tmp6\n",
    "        theta7=theta7-alpha*(1/m)*tmp7\n",
    "        \n",
    "                                \n",
    "    theta = np.array([theta0, theta1,theta2,theta3,theta4,theta5,theta6,theta7])\n",
    "        \n",
    "    return theta  \n",
    "    "
   ]
  },
  {
   "cell_type": "code",
   "execution_count": null,
   "metadata": {},
   "outputs": [],
   "source": []
  },
  {
   "cell_type": "code",
   "execution_count": 135,
   "metadata": {},
   "outputs": [
    {
     "name": "stdout",
     "output_type": "stream",
     "text": [
      "fecha 18:  26.451749096451834\n"
     ]
    },
    {
     "data": {
      "text/plain": [
       "[<matplotlib.lines.Line2D at 0x7f04fa7686d8>]"
      ]
     },
     "execution_count": 135,
     "metadata": {},
     "output_type": "execute_result"
    },
    {
     "data": {
      "image/png": "[encoded data removed]",
      "text/plain": [
       "<matplotlib.figure.Figure at 0x7f0504185b70>"
      ]
     },
     "metadata": {},
     "output_type": "display_data"
    }
   ],
   "source": [
    "theta_ = np.zeros((8,1))\n",
    "theta_\n",
    "theta = gradiente(x,y,theta_,0.01,100000)\n",
    "    \n",
    "yprima=[]\n",
    "\n",
    "mpl.plot(y,\"o\")\n",
    "mpl.xlabel(\"fecha\")\n",
    "mpl.ylabel(\"partido\")\n",
    "mpl.title(\"titulo\")\n",
    "\n",
    "for i in range(18):\n",
    "    yprima.append(theta[0]*x[i,0]+theta[1]*x[i,1]+theta[2]*x[i,2]+theta[3]*x[i,3]+theta[4]*x[i,4]+theta[5]*x[i,5]+theta[6]*x[i,6])\n",
    "\n",
    "print(\"fecha 18: \",theta[0]*x[17,0]+theta[1]*(x[17,1]+1)+theta[2]*x[17,2]+theta[3]*x[17,3]\n",
    "+theta[4]*x[17,4]+theta[5]*x[17,5]+theta[6]*x[17,6])\n",
    "\n",
    "mpl.plot(yprima,\"-\")\n",
    "\n",
    "#theta:  [-1.72800094  1.62468957  1.75862839  0.90252902 -1.18025553 -0.50332185\n",
    "# -1.10703686]\n",
    "#fecha 18:  -1.0202565537339487\"\"\""
   ]
  },
  {
   "cell_type": "code",
   "execution_count": 140,
   "metadata": {},
   "outputs": [],
   "source": [
    "def predic(fecha):\n",
    "    i=fecha-1\n",
    "    fecha_ant=theta[0]*x[i,0]+theta[1]*x[i,1]+theta[2]*x[i,2]+theta[3]*x[i,3]+theta[4]*x[i,4]\n",
    "    +theta[5]*x[i,5]+theta[6]*x[i,6]\n",
    "    i=i+1\n",
    "    fecha_hoy=theta[0]*x[i,0]+theta[1]*x[i,1]+theta[2]*x[i,2]+theta[3]*x[i,3]+theta[4]*x[i,4]\n",
    "    +theta[5]*x[i,5]+theta[6]*x[i,6]\n",
    "    \n",
    "    if fecha_hoy-fecha_ant<=0.7:\n",
    "        print(\"perdio\")\n",
    "    elif fecha_hoy-fecha_ant>=0.7 and fecha_hoy-fecha_ant<=1.5:\n",
    "        print(\"empato\")\n",
    "    elif fecha_hoy-fecha_ant>=1.5 and fecha_hoy-fecha_ant<=4:\n",
    "        print(\"gano\")\n",
    "\n",
    "    "
   ]
  },
  {
   "cell_type": "code",
   "execution_count": 143,
   "metadata": {},
   "outputs": [
    {
     "name": "stdout",
     "output_type": "stream",
     "text": [
      "gano\n",
      "perdio\n",
      "gano\n",
      "gano\n"
     ]
    }
   ],
   "source": [
    "predic(15)\n",
    "predic(10)\n",
    "predic(9)\n",
    "predic(2)"
   ]
  }
 ],
 "metadata": {
  "kernelspec": {
   "display_name": "Python 3",
   "language": "python",
   "name": "python3"
  },
  "language_info": {
   "codemirror_mode": {
    "name": "ipython",
    "version": 3
   },
   "file_extension": ".py",
   "mimetype": "text/x-python",
   "name": "python",
   "nbconvert_exporter": "python",
   "pygments_lexer": "ipython3",
   "version": "3.6.4"
  }
 },
 "nbformat": 4,
 "nbformat_minor": 2
}
