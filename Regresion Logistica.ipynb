{
 "cells": [
  {
   "cell_type": "code",
   "execution_count": 1,
   "metadata": {},
   "outputs": [],
   "source": [
    "import numpy as np\n",
    "import matplotlib.pyplot as mpl\n",
    "import random"
   ]
  },
  {
   "cell_type": "code",
   "execution_count": 14,
   "metadata": {},
   "outputs": [
    {
     "data": {
      "text/plain": [
       "1.0"
      ]
     },
     "execution_count": 14,
     "metadata": {},
     "output_type": "execute_result"
    }
   ],
   "source": [
    "#funcion sigmoid\n",
    "def sigmoide(theta,X,y):\n",
    "    theta0=theta[0,0]\n",
    "    theta1=theta[1,0]\n",
    "    \n",
    "    temp=(theta0*X[:,0]+theta1*X[:,1] - y)    \n",
    "\n",
    "    return 1/(1+(np.finfo(float).eps**(-1*temp.sum())))\n",
    "\n",
    "#creando una matriz plantilla\n",
    "x= np.ones((18,2))\n",
    "x[:,1] = np.arange(1,19)\n",
    "#print(x)\n",
    "\n",
    "# creo theta\n",
    "tamTheta = np.size(x,1)\n",
    "theta = np.zeros(tamTheta).reshape((tamTheta,1))\n",
    "#print(theta)\n",
    "y=np.array([0,0,3,3,4,4,7,10,11,11,14,14,15,18,21,24,25,26])\n",
    "y=y.reshape(len(y),1)\n",
    "\n",
    "sigmoide(theta,x,y)\n",
    "\n",
    "\n",
    "def regresion_linear(x,y):\n",
    "    xt = np.transpose(x)\n",
    "    tx = np.dot(xt, x)\n",
    "    ty = np.dot(xt, y)\n",
    "    theta = np.dot(np.linalg.inv(tx),ty)\n",
    "    return theta\n",
    "\n"
   ]
  },
  {
   "cell_type": "code",
   "execution_count": null,
   "metadata": {},
   "outputs": [],
   "source": [
    "#regresion logistica"
   ]
  },
  {
   "cell_type": "code",
   "execution_count": null,
   "metadata": {},
   "outputs": [],
   "source": [
    "#funcion costo"
   ]
  }
 ],
 "metadata": {
  "kernelspec": {
   "display_name": "Python 3",
   "language": "python",
   "name": "python3"
  },
  "language_info": {
   "codemirror_mode": {
    "name": "ipython",
    "version": 3
   },
   "file_extension": ".py",
   "mimetype": "text/x-python",
   "name": "python",
   "nbconvert_exporter": "python",
   "pygments_lexer": "ipython3",
   "version": "3.6.4"
  }
 },
 "nbformat": 4,
 "nbformat_minor": 2
}
