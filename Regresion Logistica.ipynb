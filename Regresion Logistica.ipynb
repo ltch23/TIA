{
 "cells": [
  {
   "cell_type": "markdown",
   "metadata": {},
   "source": [
    "# Regresion Logistica"
   ]
  },
  {
   "cell_type": "code",
   "execution_count": 58,
   "metadata": {},
   "outputs": [],
   "source": [
    "import numpy as np\n",
    "import matplotlib.pyplot as plt\n",
    "import random"
   ]
  },
  {
   "cell_type": "markdown",
   "metadata": {},
   "source": [
    "### Funcion Sigmoid"
   ]
  },
  {
   "cell_type": "code",
   "execution_count": 69,
   "metadata": {},
   "outputs": [],
   "source": [
    "def sigmoid(a):\n",
    "    return 1.0 / (1 + np.exp(-a))"
   ]
  },
  {
   "cell_type": "markdown",
   "metadata": {},
   "source": [
    "### Funcion Costo"
   ]
  },
  {
   "cell_type": "code",
   "execution_count": 70,
   "metadata": {},
   "outputs": [],
   "source": [
    "def cost(x, y, theta):\n",
    "    m = x.shape[0]\n",
    "    h = sigmoid(np.matmul(x, theta))\n",
    "    cost = (np.matmul(-y.T, np.log(h)) - np.matmul((1 -y.T), np.log(1 - h)))/m\n",
    "    return cost"
   ]
  },
  {
   "cell_type": "markdown",
   "metadata": {},
   "source": [
    "### Gradiente con Sigmoid"
   ]
  },
  {
   "cell_type": "code",
   "execution_count": 84,
   "metadata": {},
   "outputs": [],
   "source": [
    "def gradient_Descent(x , y, theta, alpha, iterations):\n",
    "    m = x.shape[0]\n",
    "    for i in range(n_iterations):\n",
    "        h = sigmoid(np.matmul(x, theta))\n",
    "        grad = np.matmul(x.T, (h - y)) / m;\n",
    "        theta = theta - alpha * grad\n",
    "    return theta"
   ]
  },
  {
   "cell_type": "markdown",
   "metadata": {},
   "source": [
    "### Prueba"
   ]
  },
  {
   "cell_type": "code",
   "execution_count": 88,
   "metadata": {},
   "outputs": [
    {
     "name": "stdout",
     "output_type": "stream",
     "text": [
      "[[ 1.06671667e+01]\n",
      " [ 1.33393139e+02]\n",
      " [ 2.80052158e+02]\n",
      " [ 2.92319186e+02]\n",
      " [ 2.39622528e+02]\n",
      " [ 5.30981461e+03]\n",
      " [ 5.43705491e+05]\n",
      " [-2.55561111e+00]]\n"
     ]
    }
   ],
   "source": [
    "#---------- Obtengo la data\n",
    "data = np.loadtxt('puntos.txt',delimiter=\",\")\n",
    "X = data[:,:7]\n",
    "Y = np.array([0,0,3,3,4,4,7,10,11,11,14,14,15,18,21,24,25,26]).reshape([-1, 1])\n",
    "m = len(Y)\n",
    "\n",
    "#----------Inicializo\n",
    "X1 = np.column_stack((np.ones((m,1)),X))\n",
    "tamTheta = np.size(X1,1)\n",
    "theta = np.zeros(tamTheta).reshape((tamTheta,1))\n",
    "\n",
    "#---------- Regresion Logistica\n",
    "n_iterations = 1000\n",
    "learning_rate = 0.001\n",
    "theta = gradient_Descent(X1, Y, theta, learning_rate, n_iterations)\n",
    "print(theta)\n"
   ]
  },
  {
   "cell_type": "code",
   "execution_count": 92,
   "metadata": {},
   "outputs": [
    {
     "data": {
      "text/plain": [
       "[<matplotlib.lines.Line2D at 0x7fb801b634a8>]"
      ]
     },
     "execution_count": 92,
     "metadata": {},
     "output_type": "execute_result"
    },
    {
     "data": {
      "image/png": "[encoded data removed]",
      "text/plain": [
       "<matplotlib.figure.Figure at 0x7fb801babf98>"
      ]
     },
     "metadata": {},
     "output_type": "display_data"
    }
   ],
   "source": [
    "#---------- ploteo\n",
    "plt.plot(X1[:,1],theta[0]+theta[1]*X1[:,1]+theta[2]*X1[:,2]+theta[3]*X1[:,3]+theta[4]*X1[:,4]+ theta[5]*X1[:,5]+theta[6][0]*X1[:,6]+theta[7][0]*X1[:,7])"
   ]
  },
  {
   "cell_type": "code",
   "execution_count": 47,
   "metadata": {},
   "outputs": [],
   "source": [
    "#regresion logistica\n",
    "def regre(x):\n",
    "    a = random()\n",
    "    while a==0:\n",
    "        a=random()\n",
    "    return a"
   ]
  },
  {
   "cell_type": "code",
   "execution_count": 91,
   "metadata": {
    "scrolled": false
   },
   "outputs": [
    {
     "name": "stdout",
     "output_type": "stream",
     "text": [
      "ycal= 0.25898863116795057  y= 1\n",
      "ycal= 0.02639110059925598  y= 0\n",
      "ycal= 0.7517765271868634  y= 1\n",
      "ycal= 0.7736209558857252  y= 1\n",
      "ycal= 0.1096067197188958  y= 0\n",
      "ycal= 0.5918049294733997  y= 1\n",
      "ycal= 0.00982986265257968  y= 1\n",
      "ycal= 0.1843621883492491  y= 0\n",
      "ycal= 0.6626173265622177  y= 0\n",
      "ycal= 0.1890093736032582  y= 1\n",
      "1.0138987692974974\n"
     ]
    }
   ],
   "source": [
    "x = [2,3,3,4,5,6,7,8,9,8]\n",
    "y = [1,0,1,1,0,1,1,0,0,1]\n",
    "\n",
    "#funcion costo\n",
    "def logistic_cost(x, y):\n",
    "    cost = 0\n",
    "    for i in range (len(y)):\n",
    "        ycal=regre(x[i])\n",
    "        print(\"ycal=\", ycal, \" y=\", y[i])\n",
    "        cost+=(y[i]*np.log(ycal))+((1-y[i])*np.log(1-ycal))\n",
    "    \n",
    "    return cost/(-len(y))\n",
    "\n",
    "print(logistic_cost(x,y))"
   ]
  }
 ],
 "metadata": {
  "kernelspec": {
   "display_name": "Python 3",
   "language": "python",
   "name": "python3"
  },
  "language_info": {
   "codemirror_mode": {
    "name": "ipython",
    "version": 3
   },
   "file_extension": ".py",
   "mimetype": "text/x-python",
   "name": "python",
   "nbconvert_exporter": "python",
   "pygments_lexer": "ipython3",
   "version": "3.6.4"
  }
 },
 "nbformat": 4,
 "nbformat_minor": 2
}
