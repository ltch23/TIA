{
 "cells": [
  {
   "cell_type": "code",
   "execution_count": 45,
   "metadata": {},
   "outputs": [],
   "source": [
    "import numpy as np\n",
    "import matplotlib.pyplot as mpl\n",
    "from random import random\n",
    "import math"
   ]
  },
  {
   "cell_type": "code",
   "execution_count": 46,
   "metadata": {},
   "outputs": [],
   "source": [
    "#funcion sigmoid\n",
    "\n",
    "\n",
    "#Funcion Gradiente Vectorizada\n",
    "def gradienteV(X,Y,theta,alpha,num_iter):\n",
    "    for i in range(num_iter):\n",
    "        #c = costoV(X,Y,theta)\n",
    "        #print(\"Coso en iter \",i,\" es: \",c)\n",
    "        h_theta = (np.dot(X,theta) - Y)  #Vector Columna h_t = (X.Theta -Y)\n",
    "        tmp = h_theta * X                \n",
    "        gamma =  np.sum(tmp, axis=0).reshape(theta.shape[0],1) #Sum(h_t)*X\n",
    "        theta = theta - ((alpha/X.shape[0]) * gamma)\n",
    "        \n",
    "    c = costoV(X,Y,theta)\n",
    "    print(\"Costo con theta Final es: \",c)    \n",
    "    return theta"
   ]
  },
  {
   "cell_type": "code",
   "execution_count": 47,
   "metadata": {},
   "outputs": [],
   "source": [
    "#regresion logistica\n",
    "def regre(x):\n",
    "    a = random()\n",
    "    while a==0:\n",
    "        a=random()\n",
    "    return a"
   ]
  },
  {
   "cell_type": "code",
   "execution_count": 91,
   "metadata": {
    "scrolled": false
   },
   "outputs": [
    {
     "name": "stdout",
     "output_type": "stream",
     "text": [
      "ycal= 0.25898863116795057  y= 1\n",
      "ycal= 0.02639110059925598  y= 0\n",
      "ycal= 0.7517765271868634  y= 1\n",
      "ycal= 0.7736209558857252  y= 1\n",
      "ycal= 0.1096067197188958  y= 0\n",
      "ycal= 0.5918049294733997  y= 1\n",
      "ycal= 0.00982986265257968  y= 1\n",
      "ycal= 0.1843621883492491  y= 0\n",
      "ycal= 0.6626173265622177  y= 0\n",
      "ycal= 0.1890093736032582  y= 1\n",
      "1.0138987692974974\n"
     ]
    }
   ],
   "source": [
    "x = [2,3,3,4,5,6,7,8,9,8]\n",
    "y = [1,0,1,1,0,1,1,0,0,1]\n",
    "\n",
    "#funcion costo\n",
    "def logistic_cost(x, y):\n",
    "    cost = 0\n",
    "    for i in range (len(y)):\n",
    "        ycal=regre(x[i])\n",
    "        print(\"ycal=\", ycal, \" y=\", y[i])\n",
    "        cost+=(y[i]*np.log(ycal))+((1-y[i])*np.log(1-ycal))\n",
    "    \n",
    "    return cost/(-len(y))\n",
    "\n",
    "print(logistic_cost(x,y))"
   ]
  },
  {
   "cell_type": "code",
   "execution_count": null,
   "metadata": {},
   "outputs": [],
   "source": []
  },
  {
   "cell_type": "code",
   "execution_count": null,
   "metadata": {},
   "outputs": [],
   "source": []
  },
  {
   "cell_type": "code",
   "execution_count": null,
   "metadata": {},
   "outputs": [],
   "source": []
  }
 ],
 "metadata": {
  "kernelspec": {
   "display_name": "Python 3",
   "language": "python",
   "name": "python3"
  },
  "language_info": {
   "codemirror_mode": {
    "name": "ipython",
    "version": 3
   },
   "file_extension": ".py",
   "mimetype": "text/x-python",
   "name": "python",
   "nbconvert_exporter": "python",
   "pygments_lexer": "ipython3",
   "version": "3.6.4"
  }
 },
 "nbformat": 4,
 "nbformat_minor": 2
}
