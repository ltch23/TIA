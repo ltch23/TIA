{
 "cells": [
  {
   "cell_type": "code",
   "execution_count": 580,
   "metadata": {},
   "outputs": [],
   "source": [
    "import itertools\n",
    "import numpy as np\n",
    "import matplotlib.pyplot as mpl\n",
    "from random import random\n",
    "import math\n",
    "import pandas as pd"
   ]
  },
  {
   "cell_type": "markdown",
   "metadata": {},
   "source": [
    "# Funcion Logistica"
   ]
  },
  {
   "cell_type": "code",
   "execution_count": 583,
   "metadata": {},
   "outputs": [],
   "source": [
    "eps = np.finfo(float).eps\n",
    "eps=2.718281828459045235360287471352662497757247093699959574\n",
    "\n",
    "def sigmo(z):\n",
    "    #print(\"sigmo: \", z[0])\n",
    "    return (1/(1+eps**(-z[0])))"
   ]
  },
  {
   "cell_type": "markdown",
   "metadata": {},
   "source": [
    "# Prediccion"
   ]
  },
  {
   "cell_type": "code",
   "execution_count": 584,
   "metadata": {},
   "outputs": [],
   "source": [
    "def calc(x, theta):\n",
    "    suma = 0\n",
    "    #print(\"x: \", x)\n",
    "    for j in range(x.shape[0]):\n",
    "        suma+=x[j]*theta[j]\n",
    "    return suma\n",
    "\n",
    "def predict(x, theta):\n",
    "    y2 = []\n",
    "    for i in range(x.shape[0]):\n",
    "        #print(theta)\n",
    "        y2.append(sigmo(calc(x[i,:], theta)))\n",
    "    return y2"
   ]
  },
  {
   "cell_type": "markdown",
   "metadata": {},
   "source": [
    "# Gradiente"
   ]
  },
  {
   "cell_type": "code",
   "execution_count": 585,
   "metadata": {},
   "outputs": [],
   "source": [
    "def gradiente(X,Y,theta,alpha, num_iter):\n",
    "    for i in range(num_iter):\n",
    "        h_theta = (np.dot(X,theta) - Y)\n",
    "        tmp = h_theta * X\n",
    "        gamma =  np.sum(tmp, axis=0).reshape(theta.shape[0],1)\n",
    "        theta = theta - ((alpha/X.shape[0]) * gamma)\n",
    "    \n",
    "    return theta"
   ]
  },
  {
   "cell_type": "markdown",
   "metadata": {},
   "source": [
    "# Funcion Costo"
   ]
  },
  {
   "cell_type": "code",
   "execution_count": 586,
   "metadata": {
    "scrolled": false
   },
   "outputs": [],
   "source": [
    "def logistic_cost(y2, y):\n",
    "    cost = 0\n",
    "    for i in range (len(y)):\n",
    "        ycal=y2[i]\n",
    "        #print(\"ycal=\", ycal, \" y=\", y[i][0])\n",
    "        cost+=(y[i][0]*np.log(ycal))+((1-y[i][0])*np.log(1-ycal))\n",
    "    \n",
    "    return cost/(-len(y))\n"
   ]
  },
  {
   "cell_type": "markdown",
   "metadata": {},
   "source": [
    "# Cargar los datos"
   ]
  },
  {
   "cell_type": "code",
   "execution_count": 587,
   "metadata": {},
   "outputs": [],
   "source": [
    "def get_y(y):\n",
    "    y=np.array(y)\n",
    "    y=y.reshape(len(y),1)\n",
    "    return y"
   ]
  },
  {
   "cell_type": "code",
   "execution_count": 589,
   "metadata": {},
   "outputs": [],
   "source": [
    "y=[0,0,2,0,1,0,2,2,1,0,2,0,1,2,2,2,1,1]\n",
    "size=18\n",
    "\n",
    "#gana\n",
    "y_gana=  [0,0,1,0,0,0,1,1,0,0,1,0,0,1,1,1,0,0]\n",
    "y_empata=[0,0,0,0,1,0,0,0,1,0,0,0,1,0,0,0,1,1]\n",
    "y_pierde=[1,1,0,1,0,1,0,0,0,1,0,1,0,0,0,0,0,0]\n",
    "\n",
    "y_gana = get_y(y_gana)\n",
    "y_empata = get_y(y_empata)\n",
    "y_pierde = get_y(y_pierde)\n",
    "\n",
    "\n",
    "X= np.ones((size,8))\n",
    "X[:,1] =np.arange(1,size+1) \n",
    "X[:,2] =[27.1,27.1,27.6,27.2,28.0,26.4,26.1,25.7,25.9,26.6,26,26.7,26.3,26,26.3,26.8,26.28,25.9]\n",
    "X[:,3] =[26.5,28.22,28.23,26.4,24.6,28.4,26.9,27.9,28.1,29.6,26.4,26,24.7,28.7,26.9,27.9,28.4,27.3]\n",
    "\n",
    "X[:,4] =[20,22,23,28,30,25,18,21,20,16,27,23,25,29,19,21,25,19] \n",
    "\n",
    "X[:,5] =[53,3,3,8,3,43,3640,3,3,570,43,3,67,3,3,2850,25,3]\n",
    "\n",
    "X[:,6] =[46788,50000,50000,60000,50000,60235,45000,50000,50000,48665,42354,50000,51796,50000,40093,35742,\n",
    "         49000,50000]\n",
    "\n",
    "#x[:,7] =[-1,1,1,-1,1,-1,-1,1,1,-1,-1,1,-1,1,1,-1,-1,1] \n",
    "X[:,7] =[0.3,0.7,0.7,0.3,0.7,0.3,0.4,0.7,0.7,0.3,0.3,0.7,0.3,0.7,0.7,0.3,0.3,0.3] \n"
   ]
  },
  {
   "cell_type": "code",
   "execution_count": null,
   "metadata": {},
   "outputs": [],
   "source": [
    "\n"
   ]
  },
  {
   "cell_type": "code",
   "execution_count": 590,
   "metadata": {},
   "outputs": [
    {
     "name": "stdout",
     "output_type": "stream",
     "text": [
      "[[1.00000000e+00 1.00000000e+00 6.08695652e-01 3.80000000e-01\n",
      "  2.85714286e-01 1.37475942e-02 4.50985996e-01 3.00000000e-01]\n",
      " [1.00000000e+00 2.00000000e+00 6.08695652e-01 7.24000000e-01\n",
      "  4.28571429e-01 0.00000000e+00 5.82125505e-01 7.00000000e-01]\n",
      " [1.00000000e+00 3.00000000e+00 8.26086957e-01 7.26000000e-01\n",
      "  5.00000000e-01 0.00000000e+00 5.82125505e-01 7.00000000e-01]\n",
      " [1.00000000e+00 4.00000000e+00 6.52173913e-01 3.60000000e-01\n",
      "  8.57142857e-01 1.37475942e-03 9.90405422e-01 3.00000000e-01]\n",
      " [1.00000000e+00 5.00000000e+00 1.00000000e+00 0.00000000e+00\n",
      "  1.00000000e+00 0.00000000e+00 5.82125505e-01 7.00000000e-01]\n",
      " [1.00000000e+00 6.00000000e+00 3.04347826e-01 7.60000000e-01\n",
      "  6.42857143e-01 1.09980753e-02 1.00000000e+00 3.00000000e-01]\n",
      " [1.00000000e+00 7.00000000e+00 1.73913043e-01 4.60000000e-01\n",
      "  1.42857143e-01 1.00000000e+00 3.77985547e-01 4.00000000e-01]\n",
      " [1.00000000e+00 8.00000000e+00 0.00000000e+00 6.60000000e-01\n",
      "  3.57142857e-01 0.00000000e+00 5.82125505e-01 7.00000000e-01]\n",
      " [1.00000000e+00 9.00000000e+00 8.69565217e-02 7.00000000e-01\n",
      "  2.85714286e-01 0.00000000e+00 5.82125505e-01 7.00000000e-01]\n",
      " [1.00000000e+00 1.00000000e+01 3.91304348e-01 1.00000000e+00\n",
      "  0.00000000e+00 1.55897718e-01 5.27620136e-01 3.00000000e-01]\n",
      " [1.00000000e+00 1.10000000e+01 1.30434783e-01 3.60000000e-01\n",
      "  7.85714286e-01 1.09980753e-02 2.69954681e-01 3.00000000e-01]\n",
      " [1.00000000e+00 1.20000000e+01 4.34782609e-01 2.80000000e-01\n",
      "  5.00000000e-01 0.00000000e+00 5.82125505e-01 7.00000000e-01]\n",
      " [1.00000000e+00 1.30000000e+01 2.60869565e-01 2.00000000e-02\n",
      "  6.42857143e-01 1.75969205e-02 6.55452578e-01 3.00000000e-01]\n",
      " [1.00000000e+00 1.40000000e+01 1.30434783e-01 8.20000000e-01\n",
      "  9.28571429e-01 0.00000000e+00 5.82125505e-01 7.00000000e-01]\n",
      " [1.00000000e+00 1.50000000e+01 2.60869565e-01 4.60000000e-01\n",
      "  2.14285714e-01 0.00000000e+00 1.77642592e-01 7.00000000e-01]\n",
      " [1.00000000e+00 1.60000000e+01 4.78260870e-01 6.60000000e-01\n",
      "  3.57142857e-01 7.82788012e-01 0.00000000e+00 3.00000000e-01]\n",
      " [1.00000000e+00 1.70000000e+01 2.52173913e-01 7.60000000e-01\n",
      "  6.42857143e-01 6.04894144e-03 5.41297514e-01 3.00000000e-01]\n",
      " [1.00000000e+00 1.80000000e+01 8.69565217e-02 5.40000000e-01\n",
      "  2.14285714e-01 0.00000000e+00 5.82125505e-01 3.00000000e-01]]\n"
     ]
    }
   ],
   "source": [
    "#entre 0-1\n",
    "def normalized(array, size):\n",
    "    new_array=np.zeros(size)\n",
    "    _min=np.min(array)\n",
    "    _max=np.max(array)\n",
    "    minmax=_max-_min\n",
    "    for i in range (0,len(array)):\n",
    "        new_array[i]=(array[i]-_min)/minmax\n",
    "    \n",
    "    return new_array            \n",
    "\n",
    "for i in range (2,7):\n",
    "    X[:,i]= normalized(X[:,i], size)\n",
    "print(X)"
   ]
  },
  {
   "cell_type": "code",
   "execution_count": 591,
   "metadata": {},
   "outputs": [],
   "source": [
    "theta_gana = np.zeros((8,1))\n",
    "theta_empata = np.zeros((8,1))\n",
    "theta_pierde = np.zeros((8,1))"
   ]
  },
  {
   "cell_type": "code",
   "execution_count": 592,
   "metadata": {},
   "outputs": [
    {
     "name": "stdout",
     "output_type": "stream",
     "text": [
      "[[ 0.42296813]\n",
      " [-0.02045508]\n",
      " [-0.65566486]\n",
      " [ 0.41589036]\n",
      " [ 0.76340934]\n",
      " [ 0.63269715]\n",
      " [-1.16957475]\n",
      " [ 0.74940646]]\n",
      "[[-0.09329961]\n",
      " [ 0.04952423]\n",
      " [ 0.21685133]\n",
      " [-0.63216259]\n",
      " [-0.23737787]\n",
      " [-0.27074779]\n",
      " [ 0.58743893]\n",
      " [-0.01737538]]\n",
      "[[ 0.46032469]\n",
      " [-0.02384753]\n",
      " [ 0.51029427]\n",
      " [ 0.24392845]\n",
      " [-0.53042259]\n",
      " [-0.2903203 ]\n",
      " [ 0.70440757]\n",
      " [-0.63785596]]\n"
     ]
    }
   ],
   "source": [
    "#Calcular theta si gana\n",
    "theta_gana = gradienteV(X,y_gana,theta_,0.001,100000)\n",
    "print(theta_gana)\n",
    "\n",
    "#Calcular theta si empata\n",
    "theta_empata = gradienteV(X,y_empata,theta_,0.001,100000)\n",
    "print(theta_empata)\n",
    "\n",
    "#Calcular theta si pierde\n",
    "theta_pierde = gradienteV(X,y_pierde,theta_,0.001,100000)\n",
    "print(theta_pierde)"
   ]
  },
  {
   "cell_type": "code",
   "execution_count": 593,
   "metadata": {},
   "outputs": [
    {
     "name": "stdout",
     "output_type": "stream",
     "text": [
      "[0.5213934690079218, 0.6118233060491182, 0.585975538911715, 0.44644379973989456, 0.5676286070400781, 0.4924338071064489, 0.7224203618478134, 0.6570570021050132, 0.630612068279939, 0.5210150991763253, 0.6852556121886406, 0.5583170466247401, 0.4886131388852581, 0.7200542851470608, 0.6494936873140827, 0.7406465047857421, 0.5774444081592286, 0.48248553611352196]\n",
      "[0.5090412729562988, 0.47704780167961175, 0.49664319342814156, 0.5966183938015197, 0.6138667586709357, 0.5538031230059398, 0.47769551707823676, 0.5326259522479848, 0.5475408101059245, 0.5292560366049124, 0.5538042923614162, 0.6523489243743538, 0.6935786144205921, 0.5546135695997285, 0.612222400634832, 0.520898734452056, 0.6180741023031341, 0.6816813072250801]\n",
      "[0.6922297869395012, 0.6538663964003948, 0.6650241111296038, 0.6977897042645916, 0.5706523358135013, 0.6956787174471164, 0.5347848245607124, 0.5509859228113833, 0.5677863975072612, 0.6900815876890923, 0.4828127679637538, 0.5405766949857024, 0.552940789503508, 0.46606721143570035, 0.478241422660772, 0.4689794111316895, 0.5538355973022131, 0.5774218605912087]\n",
      "0.5213934690079218  0.5090412729562988  0.6922297869395012\n",
      "pierde\n",
      "0.6118233060491182  0.47704780167961175  0.6538663964003948\n",
      "pierde\n",
      "0.585975538911715  0.49664319342814156  0.6650241111296038\n",
      "pierde\n",
      "0.44644379973989456  0.5966183938015197  0.6977897042645916\n",
      "pierde\n",
      "0.5676286070400781  0.6138667586709357  0.5706523358135013\n",
      "empata\n",
      "0.4924338071064489  0.5538031230059398  0.6956787174471164\n",
      "pierde\n",
      "0.7224203618478134  0.47769551707823676  0.5347848245607124\n",
      "gana\n",
      "0.6570570021050132  0.5326259522479848  0.5509859228113833\n",
      "gana\n",
      "0.630612068279939  0.5475408101059245  0.5677863975072612\n",
      "gana\n",
      "0.5210150991763253  0.5292560366049124  0.6900815876890923\n",
      "pierde\n",
      "0.6852556121886406  0.5538042923614162  0.4828127679637538\n",
      "gana\n",
      "0.5583170466247401  0.6523489243743538  0.5405766949857024\n",
      "empata\n",
      "0.4886131388852581  0.6935786144205921  0.552940789503508\n",
      "empata\n",
      "0.7200542851470608  0.5546135695997285  0.46606721143570035\n",
      "gana\n",
      "0.6494936873140827  0.612222400634832  0.478241422660772\n",
      "gana\n",
      "0.7406465047857421  0.520898734452056  0.4689794111316895\n",
      "gana\n",
      "0.5774444081592286  0.6180741023031341  0.5538355973022131\n",
      "empata\n",
      "0.48248553611352196  0.6816813072250801  0.5774218605912087\n",
      "empata\n"
     ]
    }
   ],
   "source": [
    "def predict_mult(X, thetha_gana, theta_pierde, thetha_empata):\n",
    "    y_pred_gana=predict(X,theta_gana)\n",
    "    y_pred_empata=predict(X,theta_empata)\n",
    "    y_pred_pierde=predict(X,theta_pierde)\n",
    "    res=[]\n",
    "    print(y_pred_gana)\n",
    "    print(y_pred_empata)\n",
    "    print(y_pred_pierde)\n",
    "    for i in range(len(y_pred_gana)):\n",
    "        print(y_pred_gana[i],\"\", y_pred_empata[i],\"\", y_pred_pierde[i])\n",
    "        if (y_pred_gana[i]>y_pred_empata[i] and y_pred_gana[i]>y_pred_pierde[i]):\n",
    "            print(\"gana\")\n",
    "            res.append(2)\n",
    "        elif (y_pred_empata[i]>y_pred_gana[i] and y_pred_empata[i]>y_pred_pierde[i]):\n",
    "            print(\"empata\")\n",
    "            res.append(1)\n",
    "        elif (y_pred_pierde[i]>y_pred_empata[i] and y_pred_pierde[i]>y_pred_gana[i]):\n",
    "            print(\"pierde\")\n",
    "            res.append(0)\n",
    "    return res\n",
    "\n",
    "y_values_calc=predict_mult(X, theta_gana, theta_pierde, theta_empata)"
   ]
  },
  {
   "cell_type": "code",
   "execution_count": 594,
   "metadata": {},
   "outputs": [
    {
     "name": "stdout",
     "output_type": "stream",
     "text": [
      "[0, 0, 2, 0, 1, 0, 2, 2, 1, 0, 2, 0, 1, 2, 2, 2, 1, 1]\n",
      "[0, 0, 0, 0, 1, 0, 2, 2, 2, 0, 2, 1, 1, 2, 2, 2, 1, 1]\n"
     ]
    }
   ],
   "source": [
    "print(y)\n",
    "print(y_values_calc)"
   ]
  },
  {
   "cell_type": "code",
   "execution_count": 595,
   "metadata": {},
   "outputs": [
    {
     "name": "stdout",
     "output_type": "stream",
     "text": [
      "Costo Gana\n",
      "0.6249386362613012\n",
      "Costo Empata\n",
      "0.7000341118644606\n",
      "Costo Pierde\n",
      "0.6605160313543071\n"
     ]
    }
   ],
   "source": [
    "print(\"Costo Gana\")\n",
    "print(logistic_cost(y_pred_gana, y_gana))\n",
    "print(\"Costo Empata\")\n",
    "print(logistic_cost(y_pred_empata, y_empata))\n",
    "print(\"Costo Pierde\")\n",
    "print(logistic_cost(y_pred_pierde, y_pierde))"
   ]
  },
  {
   "cell_type": "markdown",
   "metadata": {},
   "source": [
    "# Matriz de Confusion"
   ]
  },
  {
   "cell_type": "code",
   "execution_count": 596,
   "metadata": {},
   "outputs": [],
   "source": [
    "def plot_confusion_matrix(cm, classes,\n",
    "                          normalize=False,\n",
    "                          title='Confusion matrix',\n",
    "                          cmap=mpl.cm.Blues):\n",
    "    if normalize:\n",
    "        cm = cm.astype('float') / cm.sum(axis=1)[:, np.newaxis]\n",
    "        \n",
    "    mpl.imshow(cm, interpolation='nearest', cmap=cmap)\n",
    "    mpl.title(title)\n",
    "    mpl.colorbar()\n",
    "    tick_marks = np.arange(len(classes))\n",
    "    mpl.xticks(tick_marks, classes, rotation=45)\n",
    "    mpl.yticks(tick_marks, classes)\n",
    "\n",
    "    fmt = '.2f' if normalize else 'd'\n",
    "    thresh = cm.max() / 2.\n",
    "    for i, j in itertools.product(range(cm.shape[0]), range(cm.shape[1])):\n",
    "        mpl.text(j, i, format(cm[i, j], fmt),\n",
    "                 horizontalalignment=\"center\",\n",
    "                 color=\"white\" if cm[i, j] > thresh else \"black\")\n",
    "\n",
    "    mpl.tight_layout()\n",
    "    mpl.ylabel('Valores Calculados')\n",
    "    mpl.xlabel('Valores Reales')"
   ]
  },
  {
   "cell_type": "code",
   "execution_count": 597,
   "metadata": {},
   "outputs": [
    {
     "data": {
      "image/png": "[encoded data removed]",
      "text/plain": [
       "<matplotlib.figure.Figure at 0x7f940e9ddef0>"
      ]
     },
     "metadata": {},
     "output_type": "display_data"
    },
    {
     "data": {
      "image/png": "[encoded data removed]",
      "text/plain": [
       "<matplotlib.figure.Figure at 0x7f94181fb940>"
      ]
     },
     "metadata": {},
     "output_type": "display_data"
    }
   ],
   "source": [
    "def conf_matr(values, y, y2):\n",
    "    mat = np.zeros((3,3), dtype=int)\n",
    "    for i in range(len(y)):\n",
    "        mat[y[i]][y2[i]]+=1    \n",
    "    names=['gana', 'empata', 'pierde']\n",
    "    mpl.figure()\n",
    "    plot_confusion_matrix(mat, classes=names,\n",
    "                          title='Matriz de confusion')\n",
    "    mpl.figure()\n",
    "    plot_confusion_matrix(matriz, classes=names, normalize=True,\n",
    "                          title='Matriz de confusion normalizada')\n",
    "    \n",
    "conf_matr([0,1,2], y, y_values_calc)"
   ]
  }
 ],
 "metadata": {
  "kernelspec": {
   "display_name": "Python 3",
   "language": "python",
   "name": "python3"
  },
  "language_info": {
   "codemirror_mode": {
    "name": "ipython",
    "version": 3
   },
   "file_extension": ".py",
   "mimetype": "text/x-python",
   "name": "python",
   "nbconvert_exporter": "python",
   "pygments_lexer": "ipython3",
   "version": "3.6.4"
  }
 },
 "nbformat": 4,
 "nbformat_minor": 2
}
