{
 "cells": [
  {
   "cell_type": "code",
   "execution_count": 797,
   "metadata": {},
   "outputs": [],
   "source": [
    "import itertools\n",
    "import numpy as np\n",
    "import matplotlib.pyplot as mpl\n",
    "import random\n",
    "import math\n",
    "import pandas as pd"
   ]
  },
  {
   "cell_type": "markdown",
   "metadata": {},
   "source": [
    "# Regresion Logistica"
   ]
  },
  {
   "cell_type": "code",
   "execution_count": 798,
   "metadata": {},
   "outputs": [],
   "source": [
    "eps = np.finfo(float).eps\n",
    "eps=2.718281828459045235360287471352662497757247093699959574\n",
    "\n",
    "def sigmo(z):\n",
    "    #print(\"sigmo: \", z[0])\n",
    "    return (1/(1+eps**(-z[0])))"
   ]
  },
  {
   "cell_type": "markdown",
   "metadata": {},
   "source": [
    "# Prediccion"
   ]
  },
  {
   "cell_type": "code",
   "execution_count": 799,
   "metadata": {},
   "outputs": [],
   "source": [
    "def calc(x, theta):\n",
    "    suma = 0\n",
    "    #print(\"x: \", x)\n",
    "    for j in range(x.shape[0]):\n",
    "        suma+=x[j]*theta[j]\n",
    "    return suma\n",
    "\n",
    "def predict(x, theta):\n",
    "    y2 = []\n",
    "    for i in range(x.shape[0]):\n",
    "        #print(theta)\n",
    "        y2.append(sigmo(calc(x[i,:], theta)))\n",
    "    return y2"
   ]
  },
  {
   "cell_type": "markdown",
   "metadata": {},
   "source": [
    "# Gradiente"
   ]
  },
  {
   "cell_type": "code",
   "execution_count": 822,
   "metadata": {},
   "outputs": [],
   "source": [
    "def gradiente(X,Y,theta,alpha, num_iter):\n",
    "    for i in range(num_iter):\n",
    "        first=np.array(predict(X, theta))\n",
    "        h_theta = (first.reshape(first.shape[0],1) - Y)\n",
    "        tmp = h_theta * X\n",
    "        gamma =  np.sum(tmp, axis=0).reshape(theta.shape[0],1)\n",
    "        theta = theta - ((alpha/X.shape[0]) * gamma)\n",
    "    \n",
    "    return theta"
   ]
  },
  {
   "cell_type": "markdown",
   "metadata": {},
   "source": [
    "# Funcion Costo"
   ]
  },
  {
   "cell_type": "code",
   "execution_count": 801,
   "metadata": {
    "scrolled": false
   },
   "outputs": [],
   "source": [
    "def logistic_cost(y2, y):\n",
    "    cost = 0\n",
    "    for i in range (len(y)):\n",
    "        ycal=y2[i]\n",
    "        #print(\"ycal=\", ycal, \" y=\", y[i][0])\n",
    "        cost+=(y[i][0]*np.log(ycal))+((1-y[i][0])*np.log(1-ycal))\n",
    "    \n",
    "    return cost/(-len(y))\n"
   ]
  },
  {
   "cell_type": "markdown",
   "metadata": {},
   "source": [
    "# Cargar los datos"
   ]
  },
  {
   "cell_type": "code",
   "execution_count": 802,
   "metadata": {},
   "outputs": [],
   "source": [
    "def get_y(y):\n",
    "    y=np.array(y)\n",
    "    y=y.reshape(len(y),1)\n",
    "    return y"
   ]
  },
  {
   "cell_type": "code",
   "execution_count": 803,
   "metadata": {},
   "outputs": [
    {
     "name": "stdout",
     "output_type": "stream",
     "text": [
      "[[ 0.0000e+00  2.7100e+01  2.6500e+01  2.0000e+01  5.3000e+01  4.6788e+04\n",
      "  -1.0000e+00]\n",
      " [ 1.0000e+00  2.7100e+01  2.8000e+01  2.2000e+01  3.0000e+00  5.0000e+04\n",
      "   1.0000e+00]\n",
      " [ 2.0000e+00  2.7600e+01  2.8000e+01  2.3000e+01  3.0000e+00  5.0000e+04\n",
      "   1.0000e+00]\n",
      " [ 3.0000e+00  2.7200e+01  2.6400e+01  2.8000e+01  8.0000e+00  6.0000e+04\n",
      "  -1.0000e+00]\n",
      " [ 4.0000e+00  2.8000e+01  2.4600e+01  3.0000e+01  3.0000e+00  5.0000e+04\n",
      "   1.0000e+00]\n",
      " [ 5.0000e+00  2.6400e+01  2.8400e+01  2.5000e+01  4.3000e+01  6.0235e+04\n",
      "  -1.0000e+00]\n",
      " [ 6.0000e+00  2.6100e+01  2.6900e+01  1.8000e+01  3.6400e+03  4.5000e+04\n",
      "  -1.0000e+00]\n",
      " [ 7.0000e+00  2.5700e+01  2.7900e+01  2.1000e+01  3.0000e+00  5.0000e+04\n",
      "   1.0000e+00]\n",
      " [ 8.0000e+00  2.5900e+01  2.8100e+01  2.0000e+01  3.0000e+00  5.0000e+04\n",
      "   1.0000e+00]\n",
      " [ 9.0000e+00  2.6600e+01  2.9600e+01  1.6000e+01  5.7000e+02  4.8665e+04\n",
      "  -1.0000e+00]\n",
      " [ 1.0000e+01  2.6000e+01  2.6400e+01  2.7000e+01  4.3000e+01  4.2354e+04\n",
      "  -1.0000e+00]\n",
      " [ 1.1000e+01  2.6700e+01  2.6000e+01  2.3000e+01  3.0000e+00  5.0000e+04\n",
      "   1.0000e+00]\n",
      " [ 1.2000e+01  2.6300e+01  2.4700e+01  2.5000e+01  6.7000e+01  5.1796e+04\n",
      "  -1.0000e+00]\n",
      " [ 1.3000e+01  2.6000e+01  2.8700e+01  2.9000e+01  3.0000e+00  5.0000e+04\n",
      "   1.0000e+00]\n",
      " [ 1.4000e+01  2.6300e+01  2.6900e+01  1.9000e+01  3.0000e+00  8.0093e+04\n",
      "   1.0000e+00]\n",
      " [ 1.5000e+01  2.6800e+01  2.7900e+01  2.1000e+01  2.8500e+03  3.5742e+04\n",
      "  -1.0000e+00]\n",
      " [ 1.6000e+01  2.6000e+01  2.8400e+01  2.5000e+01  2.5000e+01  4.9000e+04\n",
      "  -1.0000e+00]\n",
      " [ 1.7000e+01  2.5900e+01  2.7300e+01  1.9000e+01  3.0000e+00  5.0000e+04\n",
      "  -1.0000e+00]]\n",
      "(18, 7)\n"
     ]
    }
   ],
   "source": [
    "y=[0,0,2,0,1,0,2,2,1,0,2,0,1,2,2,2,1,1]\n",
    "size=18\n",
    "variables=7\n",
    "\n",
    "#gana\n",
    "y_gana=  [0,0,1,0,0,0,1,1,0,0,1,0,0,1,1,1,0,0]\n",
    "y_empata=[0,0,0,0,1,0,0,0,1,0,0,0,1,0,0,0,1,1]\n",
    "y_pierde=[1,1,0,1,0,1,0,0,0,1,0,1,0,0,0,0,0,0]\n",
    "\n",
    "y_gana = get_y(y_gana)\n",
    "y_empata = get_y(y_empata)\n",
    "y_pierde = get_y(y_pierde)\n",
    "\n",
    "#---------- Obtengo la data\n",
    "data = np.loadtxt('puntos.txt',delimiter=\",\")\n",
    "X = data[:,:7]\n",
    "print(X)\n",
    "print(X.shape)"
   ]
  },
  {
   "cell_type": "markdown",
   "metadata": {},
   "source": [
    "# Normalizar los datos"
   ]
  },
  {
   "cell_type": "code",
   "execution_count": 804,
   "metadata": {},
   "outputs": [
    {
     "name": "stdout",
     "output_type": "stream",
     "text": [
      "(18, 7)\n"
     ]
    }
   ],
   "source": [
    "#entre 0-1\n",
    "def normalized(array, size):\n",
    "    new_array=np.zeros(size)\n",
    "    _min=np.min(array)\n",
    "    _max=np.max(array)\n",
    "    minmax=_max-_min\n",
    "    for i in range (0,len(array)):\n",
    "        new_array[i]=(array[i]-_min)/minmax\n",
    "    \n",
    "    return new_array            \n",
    "\n",
    "for i in range (2,variables):\n",
    "    X[:,i]= normalized(X[:,i], size)\n",
    "print(X.shape)"
   ]
  },
  {
   "cell_type": "markdown",
   "metadata": {},
   "source": [
    "# Calcular theta"
   ]
  },
  {
   "cell_type": "code",
   "execution_count": 842,
   "metadata": {},
   "outputs": [],
   "source": [
    "theta_gana = np.zeros((variables,1))\n",
    "theta_empata = np.zeros((variables,1))\n",
    "theta_pierde = np.zeros((variables,1))"
   ]
  },
  {
   "cell_type": "code",
   "execution_count": 843,
   "metadata": {},
   "outputs": [
    {
     "name": "stdout",
     "output_type": "stream",
     "text": [
      "[[ 0.08981704]\n",
      " [-0.11964142]\n",
      " [ 0.91197502]\n",
      " [ 0.48391957]\n",
      " [ 3.29578857]\n",
      " [-0.14098417]\n",
      " [ 1.77970086]]\n",
      "[[ 0.20191381]\n",
      " [-0.0624879 ]\n",
      " [-2.19920079]\n",
      " [ 0.70109793]\n",
      " [-1.85362929]\n",
      " [-0.7960204 ]\n",
      " [-0.07946297]]\n",
      "[[-0.29226921]\n",
      " [ 0.07974322]\n",
      " [ 0.95745506]\n",
      " [-1.02113844]\n",
      " [-1.80184929]\n",
      " [ 0.87163605]\n",
      " [-1.67559303]]\n"
     ]
    }
   ],
   "source": [
    "#Calcular theta si gana\n",
    "theta_gana = gradiente(X,y_gana,theta_gana,0.001,100000)\n",
    "print(theta_gana)\n",
    "\n",
    "#Calcular theta si empata\n",
    "theta_empata = gradiente(X,y_empata,theta_empata,0.001,100000)\n",
    "print(theta_empata)\n",
    "\n",
    "#Calcular theta si pierde\n",
    "theta_pierde = gradiente(X,y_pierde,theta_pierde,0.001,100000)\n",
    "print(theta_pierde)\n"
   ]
  },
  {
   "cell_type": "markdown",
   "metadata": {},
   "source": [
    "# Predecir resultados"
   ]
  },
  {
   "cell_type": "code",
   "execution_count": 886,
   "metadata": {},
   "outputs": [],
   "source": [
    "def predict_mult(X, theta_gana, theta_pierde, theta_empata):\n",
    "    y_pred_gana=predict(X,theta_gana)\n",
    "    y_pred_empata=predict(X,theta_empata)\n",
    "    y_pred_pierde=predict(X,theta_pierde)\n",
    "    res=[]\n",
    "    print(y_pred_gana)\n",
    "    print(y_pred_empata)\n",
    "    print(y_pred_pierde)\n",
    "    for i in range(len(y_pred_gana)):\n",
    "#         print(y_pred_gana[i],\"\", y_pred_empata[i],\"\", y_pred_pierde[i])\n",
    "        if (y_pred_gana[i]>y_pred_empata[i] and y_pred_gana[i]>y_pred_pierde[i]):\n",
    "            res.append(2)\n",
    "        elif (y_pred_empata[i]>y_pred_gana[i] and y_pred_empata[i]>y_pred_pierde[i]):\n",
    "            res.append(1)\n",
    "        elif (y_pred_pierde[i]>y_pred_empata[i] and y_pred_pierde[i]>y_pred_gana[i]):\n",
    "            res.append(0)\n",
    "    return res\n"
   ]
  },
  {
   "cell_type": "code",
   "execution_count": 882,
   "metadata": {},
   "outputs": [
    {
     "name": "stdout",
     "output_type": "stream",
     "text": [
      "[0.060240828477579236, 0.3565084173392839, 0.37145285564463554, 0.08994740544164188, 0.31596129096223513, 0.14844270516220617, 0.7633727123676611, 0.5157557640593378, 0.5326649095430889, 0.27102914509115617, 0.18411032110826792, 0.5063125456438973, 0.1502717450410026, 0.7287905939290907, 0.5677780911705358, 0.81690255439694, 0.3336725886775966, 0.26483592841432557]\n",
      "[0.07225580438663126, 0.046447909699682724, 0.05726399046299575, 0.15153191022216342, 0.3597898550432472, 0.08941573403881055, 0.03387157770578718, 0.15071667596190302, 0.15741070280153244, 0.07142018961885185, 0.5036357506218124, 0.48800964723545454, 0.7038079076561236, 0.3804828348079535, 0.36504838486203334, 0.21449375782434138, 0.5339673756465286, 0.6273487547987536]\n",
      "[0.9187466023285181, 0.6652618256880091, 0.5894025172233236, 0.7748493311252671, 0.20541562189934578, 0.7643434734134247, 0.2694006713152457, 0.2451526649058119, 0.21590049703186104, 0.603788309511253, 0.232031063640272, 0.061590553605785074, 0.14635546221679696, 0.03610184889277437, 0.07064225128695722, 0.03260447510557059, 0.09261614967830671, 0.08908955293007327]\n",
      "0.060240828477579236  0.07225580438663126  0.9187466023285181\n",
      "0.3565084173392839  0.046447909699682724  0.6652618256880091\n",
      "0.37145285564463554  0.05726399046299575  0.5894025172233236\n",
      "0.08994740544164188  0.15153191022216342  0.7748493311252671\n",
      "0.31596129096223513  0.3597898550432472  0.20541562189934578\n",
      "0.14844270516220617  0.08941573403881055  0.7643434734134247\n",
      "0.7633727123676611  0.03387157770578718  0.2694006713152457\n",
      "0.5157557640593378  0.15071667596190302  0.2451526649058119\n",
      "0.5326649095430889  0.15741070280153244  0.21590049703186104\n",
      "0.27102914509115617  0.07142018961885185  0.603788309511253\n",
      "0.18411032110826792  0.5036357506218124  0.232031063640272\n",
      "0.5063125456438973  0.48800964723545454  0.061590553605785074\n",
      "0.1502717450410026  0.7038079076561236  0.14635546221679696\n",
      "0.7287905939290907  0.3804828348079535  0.03610184889277437\n",
      "0.5677780911705358  0.36504838486203334  0.07064225128695722\n",
      "0.81690255439694  0.21449375782434138  0.03260447510557059\n",
      "0.3336725886775966  0.5339673756465286  0.09261614967830671\n",
      "0.26483592841432557  0.6273487547987536  0.08908955293007327\n",
      "[0, 0, 2, 0, 1, 0, 2, 2, 1, 0, 2, 0, 1, 2, 2, 2, 1, 1]\n",
      "[0, 0, 0, 0, 1, 0, 2, 2, 2, 0, 1, 2, 1, 2, 2, 2, 1, 1]\n"
     ]
    }
   ],
   "source": [
    "y_values_calc=predict_mult(X, theta_gana, theta_pierde, theta_empata)\n",
    "print(y)\n",
    "print(y_values_calc)"
   ]
  },
  {
   "cell_type": "markdown",
   "metadata": {},
   "source": [
    "## Costo "
   ]
  },
  {
   "cell_type": "code",
   "execution_count": 883,
   "metadata": {},
   "outputs": [
    {
     "name": "stdout",
     "output_type": "stream",
     "text": [
      "Costo Gana\n",
      "0.47200725703954155\n",
      "Costo Empata\n",
      "0.42065772565688475\n",
      "Costo Pierde\n",
      "0.39012642269380593\n"
     ]
    }
   ],
   "source": [
    "y_pred_gana=predict(X,theta_gana)\n",
    "y_pred_empata=predict(X,theta_empata)\n",
    "y_pred_pierde=predict(X,theta_pierde)\n",
    "print(\"Costo Gana\")\n",
    "print(logistic_cost(y_pred_gana, y_gana))\n",
    "print(\"Costo Empata\")\n",
    "print(logistic_cost(y_pred_empata, y_empata))\n",
    "print(\"Costo Pierde\")\n",
    "print(logistic_cost(y_pred_pierde, y_pierde))"
   ]
  },
  {
   "cell_type": "markdown",
   "metadata": {},
   "source": [
    "# Matriz de Confusion"
   ]
  },
  {
   "cell_type": "code",
   "execution_count": 852,
   "metadata": {},
   "outputs": [],
   "source": [
    "def plot_confusion_matrix(cm, classes,\n",
    "                          normalize=False,\n",
    "                          title='Confusion matrix',\n",
    "                          cmap=mpl.cm.Blues):\n",
    "    if normalize:\n",
    "        cm = cm.astype('float') / cm.sum(axis=1)[:, np.newaxis]\n",
    "        \n",
    "    mpl.imshow(cm, interpolation='nearest', cmap=cmap)\n",
    "    mpl.title(title)\n",
    "    mpl.colorbar()\n",
    "    tick_marks = np.arange(len(classes))\n",
    "    mpl.xticks(tick_marks, classes, rotation=45)\n",
    "    mpl.yticks(tick_marks, classes)\n",
    "\n",
    "    fmt = '.2f' if normalize else 'd'\n",
    "    thresh = cm.max() / 2.\n",
    "    for i, j in itertools.product(range(cm.shape[0]), range(cm.shape[1])):\n",
    "        mpl.text(j, i, format(cm[i, j], fmt),\n",
    "                 horizontalalignment=\"center\",\n",
    "                 color=\"white\" if cm[i, j] > thresh else \"black\")\n",
    "\n",
    "    mpl.tight_layout()\n",
    "    mpl.ylabel('Valores Calculados')\n",
    "    mpl.xlabel('Valores Reales')"
   ]
  },
  {
   "cell_type": "code",
   "execution_count": 853,
   "metadata": {},
   "outputs": [
    {
     "data": {
      "image/png": "[encoded data removed]",
      "text/plain": [
       "<matplotlib.figure.Figure at 0x7f9418b44940>"
      ]
     },
     "metadata": {},
     "output_type": "display_data"
    },
    {
     "data": {
      "image/png": "[encoded data removed]",
      "text/plain": [
       "<matplotlib.figure.Figure at 0x7f940e91da58>"
      ]
     },
     "metadata": {},
     "output_type": "display_data"
    }
   ],
   "source": [
    "def conf_matr(values, y, y2):\n",
    "    mat = np.zeros((3,3), dtype=int)\n",
    "    for i in range(len(y)):\n",
    "        mat[y[i]][y2[i]]+=1    \n",
    "    names=['gana', 'empata', 'pierde']\n",
    "    mpl.figure()\n",
    "    plot_confusion_matrix(mat, classes=names,\n",
    "                          title='Matriz de confusion')\n",
    "    mpl.figure()\n",
    "    plot_confusion_matrix(mat, classes=names, normalize=True,\n",
    "                          title='Matriz de confusion normalizada')\n",
    "    \n",
    "conf_matr([0,1,2], y, y_values_calc)"
   ]
  },
  {
   "cell_type": "markdown",
   "metadata": {},
   "source": [
    "### Cross Validation"
   ]
  },
  {
   "cell_type": "code",
   "execution_count": 865,
   "metadata": {},
   "outputs": [],
   "source": [
    "def partir(x,porcent):\n",
    "    tam = x.shape[0]\n",
    "    tam_test = round(tam*porcent/100)\n",
    "    tam_train = tam-tam_test\n",
    "    arreglo = np.arange(0,tam)\n",
    "    rand = random.shuffle(arreglo)\n",
    "    train = arreglo[:tam_train]\n",
    "    test =arreglo[tam_train:]\n",
    "    \n",
    "    return train,test\n",
    "\n",
    "def construir(indices,X,y_gana, y_empata, y_pierde):\n",
    "    matrizx = np.zeros((len(indices),X.shape[1]))\n",
    "    matrizy_gana = np.zeros((len(indices),Y.shape[1]))    \n",
    "    matrizy_empata = np.zeros((len(indices),Y.shape[1]))    \n",
    "    matrizy_pierde = np.zeros((len(indices),Y.shape[1]))    \n",
    "\n",
    "    for i in range(0,len(indices)):\n",
    "        matrizx[i,:]=X[indices[i]]\n",
    "        matrizy_gana[i,:]=y_gana[indices[i]]\n",
    "        matrizy_empata[i,:]=y_empata[indices[i]]\n",
    "        matrizy_pierde[i,:]=y_pierde[indices[i]]\n",
    "\n",
    "    return matrizx,matrizy_gana, matrizy_empata, matrizy_pierde\n",
    "\n",
    "def train(X, y_gana, y_empata, y_pierde):\n",
    "    indices = partir(X,15) #parte en 15% -> 3 datos\n",
    "    n_X, n_y_gana, n_y_empata, n_y_pierde = construir(indices[0], X, y_gana, y_empata, y_pierde)\n",
    "    \n",
    "    theta_gana = np.zeros((7,1))\n",
    "    theta_empata = np.zeros((7,1))\n",
    "    theta_pierde = np.zeros((7,1))\n",
    "    #theta si gana\n",
    "    theta_gana = gradiente(n_X, n_y_gana,theta_gana,0.001,100000)\n",
    "    #theta si empata\n",
    "    theta_empata = gradiente(n_X, n_y_empata,theta_empata,0.001,100000)\n",
    "    #theta si pierde\n",
    "    theta_pierde = gradiente(n_X, n_y_pierde,theta_pierde,0.001,100000)\n",
    "    \n",
    "    return theta_gana, theta_empata, theta_pierde"
   ]
  },
  {
   "cell_type": "code",
   "execution_count": 878,
   "metadata": {},
   "outputs": [
    {
     "name": "stdout",
     "output_type": "stream",
     "text": [
      "Iteracion:  1\n",
      "[[ 0.07692679]\n",
      " [-0.063324  ]\n",
      " [ 0.24382805]\n",
      " [ 0.17131825]\n",
      " [ 1.7452399 ]\n",
      " [ 0.04730661]\n",
      " [ 0.61079815]]\n",
      "[[ 0.08081423]\n",
      " [-0.03063161]\n",
      " [-0.5725563 ]\n",
      " [ 0.13619361]\n",
      " [-0.9764305 ]\n",
      " [-0.55157516]\n",
      " [ 0.09332647]]\n",
      "[[-0.1785554 ]\n",
      " [ 0.04119618]\n",
      " [ 0.21061119]\n",
      " [-0.16290813]\n",
      " [-0.94753526]\n",
      " [ 0.49818103]\n",
      " [-0.44953008]]\n",
      "Iteracion:  2\n",
      "[[ 0.17585303]\n",
      " [-0.14296571]\n",
      " [ 0.26438995]\n",
      " [ 0.92106031]\n",
      " [ 1.96576916]\n",
      " [ 0.14986762]\n",
      " [ 0.97785111]]\n",
      "[[ 0.13121111]\n",
      " [-0.03743716]\n",
      " [-1.38028388]\n",
      " [ 0.2705481 ]\n",
      " [-1.39984227]\n",
      " [-0.80525699]\n",
      " [ 0.09619264]]\n",
      "[[-0.30533722]\n",
      " [ 0.09571432]\n",
      " [ 0.79547085]\n",
      " [-1.11464569]\n",
      " [-0.54824815]\n",
      " [ 0.50445264]\n",
      " [-0.74117768]]\n",
      "Iteracion:  3\n",
      "[[ 0.13195313]\n",
      " [-0.14087689]\n",
      " [ 0.74828286]\n",
      " [ 0.9987674 ]\n",
      " [ 2.11256601]\n",
      " [ 0.01937404]\n",
      " [ 1.36775924]]\n",
      "[[ 0.15680579]\n",
      " [-0.04083264]\n",
      " [-1.79017511]\n",
      " [ 0.33137651]\n",
      " [-1.61116368]\n",
      " [-0.92842794]\n",
      " [ 0.09290707]]\n",
      "[[-0.29355846]\n",
      " [ 0.0969964 ]\n",
      " [ 0.69233505]\n",
      " [-1.34538479]\n",
      " [-0.41197935]\n",
      " [ 0.72432068]\n",
      " [-1.34874033]]\n",
      "Iteracion:  4\n",
      "[[ 0.09968071]\n",
      " [-0.09992415]\n",
      " [ 0.42190702]\n",
      " [ 0.10577898]\n",
      " [ 2.54647721]\n",
      " [-0.03561507]\n",
      " [ 1.25395386]]\n",
      "[[ 0.17878412]\n",
      " [-0.07755817]\n",
      " [-1.67024415]\n",
      " [ 1.23642315]\n",
      " [-1.6658066 ]\n",
      " [-0.97065574]\n",
      " [ 0.40476284]]\n",
      "[[-0.26916155]\n",
      " [ 0.07620214]\n",
      " [ 0.9644379 ]\n",
      " [-1.10007637]\n",
      " [-1.17225079]\n",
      " [ 0.88205704]\n",
      " [-1.44651141]]\n",
      "Iteracion:  5\n",
      "[[ 0.06447394]\n",
      " [-0.09723159]\n",
      " [ 0.61867499]\n",
      " [ 0.94082624]\n",
      " [ 3.04301959]\n",
      " [-1.03290051]\n",
      " [ 0.99503956]]\n",
      "[[ 0.20383065]\n",
      " [-0.0839688 ]\n",
      " [-1.69556682]\n",
      " [ 0.49942013]\n",
      " [-1.78241543]\n",
      " [-0.19050806]\n",
      " [ 0.65754703]]\n",
      "[[-0.25829176]\n",
      " [ 0.07839186]\n",
      " [ 0.80062682]\n",
      " [-1.24994766]\n",
      " [-1.68129825]\n",
      " [ 1.16332107]\n",
      " [-1.43081455]]\n"
     ]
    }
   ],
   "source": [
    "theta_gana_cross = np.zeros((7,1))\n",
    "theta_empata_cross = np.zeros((7,1))\n",
    "theta_pierde_cross = np.zeros((7,1))\n",
    "\n",
    "for i in range (5):\n",
    "    print(\"Iteracion: \", i+1)\n",
    "    theta_gana_cross_new, theta_empata_cross_new, theta_pierde_cross_new = train(X, y_gana, y_empata, y_pierde)\n",
    "    theta_gana_cross= np.mean( np.array([ theta_gana_cross, theta_gana_cross_new ]), axis=0)\n",
    "    theta_empata_cross= np.mean( np.array([ theta_empata_cross, theta_empata_cross_new ]), axis=0)\n",
    "    theta_pierde_cross= np.mean( np.array([ theta_pierde_cross, theta_pierde_cross_new ]), axis=0)\n",
    "    print(theta_gana_cross)\n",
    "    print(theta_empata_cross)\n",
    "    print(theta_pierde_cross)"
   ]
  },
  {
   "cell_type": "markdown",
   "metadata": {},
   "source": [
    "## Costo cross-validation"
   ]
  },
  {
   "cell_type": "code",
   "execution_count": 884,
   "metadata": {},
   "outputs": [
    {
     "name": "stdout",
     "output_type": "stream",
     "text": [
      "Costo Gana\n",
      "0.5130874246274184\n",
      "Costo Empata\n",
      "0.4504006207105513\n",
      "Costo Pierde\n",
      "0.3965634241687844\n"
     ]
    }
   ],
   "source": [
    "y_pred_gana=predict(X,theta_gana_cross)\n",
    "y_pred_empata=predict(X,theta_empata_cross)\n",
    "y_pred_pierde=predict(X,theta_pierde_cross)\n",
    "print(\"Costo Gana\")\n",
    "print(logistic_cost(y_pred_gana, y_gana))\n",
    "print(\"Costo Empata\")\n",
    "print(logistic_cost(y_pred_empata, y_empata))\n",
    "print(\"Costo Pierde\")\n",
    "print(logistic_cost(y_pred_pierde, y_pierde))"
   ]
  },
  {
   "cell_type": "markdown",
   "metadata": {},
   "source": [
    "## Matriz de confusion cross-validation"
   ]
  },
  {
   "cell_type": "code",
   "execution_count": 887,
   "metadata": {},
   "outputs": [
    {
     "name": "stdout",
     "output_type": "stream",
     "text": [
      "[0.08734511970068694, 0.2528234483162915, 0.26883328355172414, 0.12101019073015389, 0.29717625846943324, 0.15361952587168307, 0.7494162445710274, 0.34519734518730594, 0.3457791094272122, 0.22899641095218784, 0.26079139587744465, 0.35887593941494633, 0.18442498029352794, 0.5876016497616039, 0.23037047396158114, 0.8157292874260632, 0.32920344136337704, 0.22818135047668245]\n",
      "[0.05472630594220628, 0.08208347442842581, 0.09824746935503548, 0.12331142114975122, 0.3917215833968327, 0.09195371725268306, 0.02932931820570793, 0.25434127021703773, 0.2705074071272176, 0.08105891032655328, 0.3986988319573947, 0.5918029807920735, 0.6045376589034254, 0.5340209503392118, 0.6081032891672974, 0.17815946778580638, 0.5106972642852691, 0.6036021426621364]\n",
      "[0.9119877806798968, 0.6938186122590579, 0.624725607153866, 0.7699799473665034, 0.24140870173354348, 0.7697645100910748, 0.32028532834192297, 0.31686928731576425, 0.2912123561814855, 0.6543198517066153, 0.2528131505130054, 0.0992331594143911, 0.1925054382123582, 0.05312168239964179, 0.1516870662078585, 0.04708500929542196, 0.12434025407818544, 0.13917814428556574]\n",
      "[0, 0, 2, 0, 1, 0, 2, 2, 1, 0, 2, 0, 1, 2, 2, 2, 1, 1]\n",
      "[0, 0, 0, 0, 1, 0, 2, 2, 2, 0, 1, 1, 1, 2, 1, 2, 1, 1]\n"
     ]
    }
   ],
   "source": [
    "y_values_calc_cross=predict_mult(X, theta_gana_cross, theta_pierde_cross, theta_empata_cross)\n",
    "print(y)\n",
    "print(y_values_calc_cross)"
   ]
  },
  {
   "cell_type": "code",
   "execution_count": 880,
   "metadata": {},
   "outputs": [
    {
     "data": {
      "image/png": "[encoded data removed]",
      "text/plain": [
       "<matplotlib.figure.Figure at 0x7f940c7d1438>"
      ]
     },
     "metadata": {},
     "output_type": "display_data"
    },
    {
     "data": {
      "image/png": "[encoded data removed]",
      "text/plain": [
       "<matplotlib.figure.Figure at 0x7f940ec74b38>"
      ]
     },
     "metadata": {},
     "output_type": "display_data"
    }
   ],
   "source": [
    "conf_matr([0,1,2], y, y_values_calc_cross)"
   ]
  }
 ],
 "metadata": {
  "kernelspec": {
   "display_name": "Python 3",
   "language": "python",
   "name": "python3"
  },
  "language_info": {
   "codemirror_mode": {
    "name": "ipython",
    "version": 3
   },
   "file_extension": ".py",
   "mimetype": "text/x-python",
   "name": "python",
   "nbconvert_exporter": "python",
   "pygments_lexer": "ipython3",
   "version": "3.6.4"
  }
 },
 "nbformat": 4,
 "nbformat_minor": 2
}
