{
 "cells": [
  {
   "cell_type": "code",
   "execution_count": 662,
   "metadata": {},
   "outputs": [],
   "source": [
    "import itertools\n",
    "import numpy as np\n",
    "import matplotlib.pyplot as mpl\n",
    "from random import random\n",
    "import math\n",
    "import pandas as pd"
   ]
  },
  {
   "cell_type": "markdown",
   "metadata": {},
   "source": [
    "# Funcion Logistica"
   ]
  },
  {
   "cell_type": "code",
   "execution_count": 663,
   "metadata": {},
   "outputs": [],
   "source": [
    "eps = np.finfo(float).eps\n",
    "eps=2.718281828459045235360287471352662497757247093699959574\n",
    "\n",
    "def sigmo(z):\n",
    "    #print(\"sigmo: \", z[0])\n",
    "    return (1/(1+eps**(-z[0])))"
   ]
  },
  {
   "cell_type": "markdown",
   "metadata": {},
   "source": [
    "# Prediccion"
   ]
  },
  {
   "cell_type": "code",
   "execution_count": 664,
   "metadata": {},
   "outputs": [],
   "source": [
    "def calc(x, theta):\n",
    "    suma = 0\n",
    "    #print(\"x: \", x)\n",
    "    for j in range(x.shape[0]):\n",
    "        suma+=x[j]*theta[j]\n",
    "    return suma\n",
    "\n",
    "def predict(x, theta):\n",
    "    y2 = []\n",
    "    for i in range(x.shape[0]):\n",
    "        #print(theta)\n",
    "        y2.append(sigmo(calc(x[i,:], theta)))\n",
    "    return y2"
   ]
  },
  {
   "cell_type": "markdown",
   "metadata": {},
   "source": [
    "# Gradiente"
   ]
  },
  {
   "cell_type": "code",
   "execution_count": 665,
   "metadata": {},
   "outputs": [],
   "source": [
    "def gradiente(X,Y,theta,alpha, num_iter):\n",
    "    for i in range(num_iter):\n",
    "        h_theta = (np.dot(X,theta) - Y)\n",
    "        tmp = h_theta * X\n",
    "        gamma =  np.sum(tmp, axis=0).reshape(theta.shape[0],1)\n",
    "        theta = theta - ((alpha/X.shape[0]) * gamma)\n",
    "    \n",
    "    return theta"
   ]
  },
  {
   "cell_type": "markdown",
   "metadata": {},
   "source": [
    "# Funcion Costo"
   ]
  },
  {
   "cell_type": "code",
   "execution_count": 666,
   "metadata": {
    "scrolled": false
   },
   "outputs": [],
   "source": [
    "def logistic_cost(y2, y):\n",
    "    cost = 0\n",
    "    for i in range (len(y)):\n",
    "        ycal=y2[i]\n",
    "        #print(\"ycal=\", ycal, \" y=\", y[i][0])\n",
    "        cost+=(y[i][0]*np.log(ycal))+((1-y[i][0])*np.log(1-ycal))\n",
    "    \n",
    "    return cost/(-len(y))\n"
   ]
  },
  {
   "cell_type": "markdown",
   "metadata": {},
   "source": [
    "# Cargar los datos"
   ]
  },
  {
   "cell_type": "code",
   "execution_count": 667,
   "metadata": {},
   "outputs": [],
   "source": [
    "def get_y(y):\n",
    "    y=np.array(y)\n",
    "    y=y.reshape(len(y),1)\n",
    "    return y"
   ]
  },
  {
   "cell_type": "code",
   "execution_count": 668,
   "metadata": {},
   "outputs": [
    {
     "name": "stdout",
     "output_type": "stream",
     "text": [
      "[[ 0.0000e+00  2.7100e+01  2.6500e+01  2.0000e+01  5.3000e+01  4.6788e+04\n",
      "  -1.0000e+00]\n",
      " [ 1.0000e+00  2.7100e+01  2.8000e+01  2.2000e+01  3.0000e+00  5.0000e+04\n",
      "   1.0000e+00]\n",
      " [ 2.0000e+00  2.7600e+01  2.8000e+01  2.3000e+01  3.0000e+00  5.0000e+04\n",
      "   1.0000e+00]\n",
      " [ 3.0000e+00  2.7200e+01  2.6400e+01  2.8000e+01  8.0000e+00  6.0000e+04\n",
      "  -1.0000e+00]\n",
      " [ 4.0000e+00  2.8000e+01  2.4600e+01  3.0000e+01  3.0000e+00  5.0000e+04\n",
      "   1.0000e+00]\n",
      " [ 5.0000e+00  2.6400e+01  2.8400e+01  2.5000e+01  4.3000e+01  6.0235e+04\n",
      "  -1.0000e+00]\n",
      " [ 6.0000e+00  2.6100e+01  2.6900e+01  1.8000e+01  3.6400e+03  4.5000e+04\n",
      "  -1.0000e+00]\n",
      " [ 7.0000e+00  2.5700e+01  2.7900e+01  2.1000e+01  3.0000e+00  5.0000e+04\n",
      "   1.0000e+00]\n",
      " [ 8.0000e+00  2.5900e+01  2.8100e+01  2.0000e+01  3.0000e+00  5.0000e+04\n",
      "   1.0000e+00]\n",
      " [ 9.0000e+00  2.6600e+01  2.9600e+01  1.6000e+01  5.7000e+02  4.8665e+04\n",
      "  -1.0000e+00]\n",
      " [ 1.0000e+01  2.6000e+01  2.6400e+01  2.7000e+01  4.3000e+01  4.2354e+04\n",
      "  -1.0000e+00]\n",
      " [ 1.1000e+01  2.6700e+01  2.6000e+01  2.3000e+01  3.0000e+00  5.0000e+04\n",
      "   1.0000e+00]\n",
      " [ 1.2000e+01  2.6300e+01  2.4700e+01  2.5000e+01  6.7000e+01  5.1796e+04\n",
      "  -1.0000e+00]\n",
      " [ 1.3000e+01  2.6000e+01  2.8700e+01  2.9000e+01  3.0000e+00  5.0000e+04\n",
      "   1.0000e+00]\n",
      " [ 1.4000e+01  2.6300e+01  2.6900e+01  1.9000e+01  3.0000e+00  8.0093e+04\n",
      "   1.0000e+00]\n",
      " [ 1.5000e+01  2.6800e+01  2.7900e+01  2.1000e+01  2.8500e+03  3.5742e+04\n",
      "  -1.0000e+00]\n",
      " [ 1.6000e+01  2.6000e+01  2.8400e+01  2.5000e+01  2.5000e+01  4.9000e+04\n",
      "  -1.0000e+00]\n",
      " [ 1.7000e+01  2.5900e+01  2.7300e+01  1.9000e+01  3.0000e+00  5.0000e+04\n",
      "  -1.0000e+00]]\n",
      "(18, 7)\n"
     ]
    }
   ],
   "source": [
    "y=[0,0,2,0,1,0,2,2,1,0,2,0,1,2,2,2,1,1]\n",
    "size=18\n",
    "\n",
    "#gana\n",
    "y_gana=  [0,0,1,0,0,0,1,1,0,0,1,0,0,1,1,1,0,0]\n",
    "y_empata=[0,0,0,0,1,0,0,0,1,0,0,0,1,0,0,0,1,1]\n",
    "y_pierde=[1,1,0,1,0,1,0,0,0,1,0,1,0,0,0,0,0,0]\n",
    "\n",
    "y_gana = get_y(y_gana)\n",
    "y_empata = get_y(y_empata)\n",
    "y_pierde = get_y(y_pierde)\n",
    "\n",
    "#---------- Obtengo la data\n",
    "data = np.loadtxt('puntos.txt',delimiter=\",\")\n",
    "X = data[:,:7]\n",
    "print(X)\n",
    "print(X.shape)\n",
    "# X= np.ones((size,8))\n",
    "# X[:,1] =np.arange(1,size+1) \n",
    "# X[:,2] =[27.1,27.1,27.6,27.2,28.0,26.4,26.1,25.7,25.9,26.6,26,26.7,26.3,26,26.3,26.8,26.28,25.9]\n",
    "# X[:,3] =[26.5,28.22,28.23,26.4,24.6,28.4,26.9,27.9,28.1,29.6,26.4,26,24.7,28.7,26.9,27.9,28.4,27.3]\n",
    "\n",
    "# X[:,4] =[20,22,23,28,30,25,18,21,20,16,27,23,25,29,19,21,25,19] \n",
    "\n",
    "# X[:,5] =[53,3,3,8,3,43,3640,3,3,570,43,3,67,3,3,2850,25,3]\n",
    "\n",
    "# X[:,6] =[46788,50000,50000,60000,50000,60235,45000,50000,50000,48665,42354,50000,51796,50000,40093,35742,\n",
    "#          49000,50000]\n",
    "\n",
    "# #x[:,7] =[-1,1,1,-1,1,-1,-1,1,1,-1,-1,1,-1,1,1,-1,-1,1] \n",
    "# X[:,7] =[0.3,0.7,0.7,0.3,0.7,0.3,0.4,0.7,0.7,0.3,0.3,0.7,0.3,0.7,0.7,0.3,0.3,0.3] \n"
   ]
  },
  {
   "cell_type": "code",
   "execution_count": null,
   "metadata": {},
   "outputs": [],
   "source": []
  },
  {
   "cell_type": "code",
   "execution_count": 671,
   "metadata": {},
   "outputs": [
    {
     "name": "stdout",
     "output_type": "stream",
     "text": [
      "(18, 7)\n"
     ]
    }
   ],
   "source": [
    "#entre 0-1\n",
    "def normalized(array, size):\n",
    "    new_array=np.zeros(size)\n",
    "    _min=np.min(array)\n",
    "    _max=np.max(array)\n",
    "    minmax=_max-_min\n",
    "    for i in range (0,len(array)):\n",
    "        new_array[i]=(array[i]-_min)/minmax\n",
    "    \n",
    "    return new_array            \n",
    "\n",
    "for i in range (2,7):\n",
    "    X[:,i]= normalized(X[:,i], size)\n",
    "print(X.shape)"
   ]
  },
  {
   "cell_type": "code",
   "execution_count": 672,
   "metadata": {},
   "outputs": [],
   "source": [
    "theta_gana = np.zeros((7,1))\n",
    "theta_empata = np.zeros((7,1))\n",
    "theta_pierde = np.zeros((7,1))"
   ]
  },
  {
   "cell_type": "code",
   "execution_count": 673,
   "metadata": {},
   "outputs": [
    {
     "name": "stdout",
     "output_type": "stream",
     "text": [
      "[[ 0.01503751]\n",
      " [-0.01907469]\n",
      " [ 0.34703113]\n",
      " [ 0.39521315]\n",
      " [ 1.1196989 ]\n",
      " [ 0.24558983]\n",
      " [ 0.40220689]]\n",
      "[[ 0.03731108]\n",
      " [ 0.02334204]\n",
      " [-0.62109126]\n",
      " [-0.13445831]\n",
      " [-0.61247485]\n",
      " [-0.50709867]\n",
      " [-0.04313225]]\n",
      "[[-0.04978493]\n",
      " [ 0.03232234]\n",
      " [ 0.29671079]\n",
      " [-0.27056165]\n",
      " [-0.51156369]\n",
      " [ 0.26673991]\n",
      " [-0.36295084]]\n"
     ]
    }
   ],
   "source": [
    "#Calcular theta si gana\n",
    "theta_gana = gradiente(X,y_gana,theta_gana,0.001,100000)\n",
    "print(theta_gana)\n",
    "\n",
    "#Calcular theta si empata\n",
    "theta_empata = gradiente(X,y_empata,theta_empata,0.001,100000)\n",
    "print(theta_empata)\n",
    "\n",
    "#Calcular theta si pierde\n",
    "theta_pierde = gradiente(X,y_pierde,theta_pierde,0.001,100000)\n",
    "print(theta_pierde)\n"
   ]
  },
  {
   "cell_type": "code",
   "execution_count": 674,
   "metadata": {},
   "outputs": [
    {
     "name": "stdout",
     "output_type": "stream",
     "text": [
      "[0.45126156465629835, 0.594989560324845, 0.6030909115331045, 0.5314166149519063, 0.5992716524605805, 0.5590647921295498, 0.7269957574341325, 0.6145290834845891, 0.613788395228678, 0.5550510427446462, 0.5346486113250625, 0.6063638125959222, 0.5120958707502069, 0.6968313637580696, 0.645880577122549, 0.723329176834209, 0.5848354405305652, 0.5281305201344817]\n",
      "[0.5556239651825529, 0.4959397284757064, 0.5057838661613961, 0.5324024733347723, 0.6135379351446719, 0.4893854315558624, 0.45260642704333987, 0.5490844531975634, 0.555695959156086, 0.5230748199817613, 0.6384006383327058, 0.6425306566561746, 0.6831820692242764, 0.5625784930448197, 0.5674624573325252, 0.5616482132595697, 0.6201323377461534, 0.6707596806137499]\n",
      "[0.7252755772460908, 0.653567919341071, 0.641483799196739, 0.6791591085488333, 0.5394490846375326, 0.6894682700743119, 0.5465783853342813, 0.5754665810920355, 0.572501414814664, 0.6696033547701888, 0.5673146856983866, 0.49649287592865543, 0.542946789031252, 0.4770273379335634, 0.5337951280241232, 0.4546793984515692, 0.5429023985024466, 0.5445819838203348]\n",
      "0.45126156465629835  0.5556239651825529  0.7252755772460908\n",
      "pierde\n",
      "0.594989560324845  0.4959397284757064  0.653567919341071\n",
      "pierde\n",
      "0.6030909115331045  0.5057838661613961  0.641483799196739\n",
      "pierde\n",
      "0.5314166149519063  0.5324024733347723  0.6791591085488333\n",
      "pierde\n",
      "0.5992716524605805  0.6135379351446719  0.5394490846375326\n",
      "empata\n",
      "0.5590647921295498  0.4893854315558624  0.6894682700743119\n",
      "pierde\n",
      "0.7269957574341325  0.45260642704333987  0.5465783853342813\n",
      "gana\n",
      "0.6145290834845891  0.5490844531975634  0.5754665810920355\n",
      "gana\n",
      "0.613788395228678  0.555695959156086  0.572501414814664\n",
      "gana\n",
      "0.5550510427446462  0.5230748199817613  0.6696033547701888\n",
      "pierde\n",
      "0.5346486113250625  0.6384006383327058  0.5673146856983866\n",
      "empata\n",
      "0.6063638125959222  0.6425306566561746  0.49649287592865543\n",
      "empata\n",
      "0.5120958707502069  0.6831820692242764  0.542946789031252\n",
      "empata\n",
      "0.6968313637580696  0.5625784930448197  0.4770273379335634\n",
      "gana\n",
      "0.645880577122549  0.5674624573325252  0.5337951280241232\n",
      "gana\n",
      "0.723329176834209  0.5616482132595697  0.4546793984515692\n",
      "gana\n",
      "0.5848354405305652  0.6201323377461534  0.5429023985024466\n",
      "empata\n",
      "0.5281305201344817  0.6707596806137499  0.5445819838203348\n",
      "empata\n"
     ]
    }
   ],
   "source": [
    "def predict_mult(X, thetha_gana, theta_pierde, thetha_empata):\n",
    "    y_pred_gana=predict(X,theta_gana)\n",
    "    y_pred_empata=predict(X,theta_empata)\n",
    "    y_pred_pierde=predict(X,theta_pierde)\n",
    "    res=[]\n",
    "    print(y_pred_gana)\n",
    "    print(y_pred_empata)\n",
    "    print(y_pred_pierde)\n",
    "    for i in range(len(y_pred_gana)):\n",
    "        print(y_pred_gana[i],\"\", y_pred_empata[i],\"\", y_pred_pierde[i])\n",
    "        if (y_pred_gana[i]>y_pred_empata[i] and y_pred_gana[i]>y_pred_pierde[i]):\n",
    "            print(\"gana\")\n",
    "            res.append(2)\n",
    "        elif (y_pred_empata[i]>y_pred_gana[i] and y_pred_empata[i]>y_pred_pierde[i]):\n",
    "            print(\"empata\")\n",
    "            res.append(1)\n",
    "        elif (y_pred_pierde[i]>y_pred_empata[i] and y_pred_pierde[i]>y_pred_gana[i]):\n",
    "            print(\"pierde\")\n",
    "            res.append(0)\n",
    "    return res\n",
    "\n",
    "y_values_calc=predict_mult(X, theta_gana, theta_pierde, theta_empata)"
   ]
  },
  {
   "cell_type": "code",
   "execution_count": 675,
   "metadata": {},
   "outputs": [
    {
     "name": "stdout",
     "output_type": "stream",
     "text": [
      "[0, 0, 2, 0, 1, 0, 2, 2, 1, 0, 2, 0, 1, 2, 2, 2, 1, 1]\n",
      "[0, 0, 0, 0, 1, 0, 2, 2, 2, 0, 1, 1, 1, 2, 2, 2, 1, 1]\n"
     ]
    }
   ],
   "source": [
    "print(y)\n",
    "print(y_values_calc)"
   ]
  },
  {
   "cell_type": "code",
   "execution_count": 676,
   "metadata": {},
   "outputs": [
    {
     "name": "stdout",
     "output_type": "stream",
     "text": [
      "Costo Gana\n",
      "0.6249386362613012\n",
      "Costo Empata\n",
      "0.7000341118644606\n",
      "Costo Pierde\n",
      "0.6605160313543071\n"
     ]
    }
   ],
   "source": [
    "print(\"Costo Gana\")\n",
    "print(logistic_cost(y_pred_gana, y_gana))\n",
    "print(\"Costo Empata\")\n",
    "print(logistic_cost(y_pred_empata, y_empata))\n",
    "print(\"Costo Pierde\")\n",
    "print(logistic_cost(y_pred_pierde, y_pierde))"
   ]
  },
  {
   "cell_type": "markdown",
   "metadata": {},
   "source": [
    "# Matriz de Confusion"
   ]
  },
  {
   "cell_type": "code",
   "execution_count": 677,
   "metadata": {},
   "outputs": [],
   "source": [
    "def plot_confusion_matrix(cm, classes,\n",
    "                          normalize=False,\n",
    "                          title='Confusion matrix',\n",
    "                          cmap=mpl.cm.Blues):\n",
    "    if normalize:\n",
    "        cm = cm.astype('float') / cm.sum(axis=1)[:, np.newaxis]\n",
    "        \n",
    "    mpl.imshow(cm, interpolation='nearest', cmap=cmap)\n",
    "    mpl.title(title)\n",
    "    mpl.colorbar()\n",
    "    tick_marks = np.arange(len(classes))\n",
    "    mpl.xticks(tick_marks, classes, rotation=45)\n",
    "    mpl.yticks(tick_marks, classes)\n",
    "\n",
    "    fmt = '.2f' if normalize else 'd'\n",
    "    thresh = cm.max() / 2.\n",
    "    for i, j in itertools.product(range(cm.shape[0]), range(cm.shape[1])):\n",
    "        mpl.text(j, i, format(cm[i, j], fmt),\n",
    "                 horizontalalignment=\"center\",\n",
    "                 color=\"white\" if cm[i, j] > thresh else \"black\")\n",
    "\n",
    "    mpl.tight_layout()\n",
    "    mpl.ylabel('Valores Calculados')\n",
    "    mpl.xlabel('Valores Reales')"
   ]
  },
  {
   "cell_type": "code",
   "execution_count": 678,
   "metadata": {},
   "outputs": [
    {
     "data": {
      "image/png": "[encoded data removed]",
      "text/plain": [
       "<matplotlib.figure.Figure at 0x7f940ea9c908>"
      ]
     },
     "metadata": {},
     "output_type": "display_data"
    },
    {
     "data": {
      "image/png": "[encoded data removed]",
      "text/plain": [
       "<matplotlib.figure.Figure at 0x7f940edade80>"
      ]
     },
     "metadata": {},
     "output_type": "display_data"
    }
   ],
   "source": [
    "def conf_matr(values, y, y2):\n",
    "    mat = np.zeros((3,3), dtype=int)\n",
    "    for i in range(len(y)):\n",
    "        mat[y[i]][y2[i]]+=1    \n",
    "    names=['gana', 'empata', 'pierde']\n",
    "    mpl.figure()\n",
    "    plot_confusion_matrix(mat, classes=names,\n",
    "                          title='Matriz de confusion')\n",
    "    mpl.figure()\n",
    "    plot_confusion_matrix(matriz, classes=names, normalize=True,\n",
    "                          title='Matriz de confusion normalizada')\n",
    "    \n",
    "conf_matr([0,1,2], y, y_values_calc)"
   ]
  },
  {
   "cell_type": "code",
   "execution_count": null,
   "metadata": {},
   "outputs": [],
   "source": []
  },
  {
   "cell_type": "code",
   "execution_count": null,
   "metadata": {},
   "outputs": [],
   "source": []
  }
 ],
 "metadata": {
  "kernelspec": {
   "display_name": "Python 3",
   "language": "python",
   "name": "python3"
  },
  "language_info": {
   "codemirror_mode": {
    "name": "ipython",
    "version": 3
   },
   "file_extension": ".py",
   "mimetype": "text/x-python",
   "name": "python",
   "nbconvert_exporter": "python",
   "pygments_lexer": "ipython3",
   "version": "3.6.4"
  }
 },
 "nbformat": 4,
 "nbformat_minor": 2
}
