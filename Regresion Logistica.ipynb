{
 "cells": [
  {
   "cell_type": "code",
   "execution_count": 797,
   "metadata": {},
   "outputs": [],
   "source": [
    "import itertools\n",
    "import numpy as np\n",
    "import matplotlib.pyplot as mpl\n",
    "import random\n",
    "import math\n",
    "import pandas as pd"
   ]
  },
  {
   "cell_type": "markdown",
   "metadata": {},
   "source": [
    "# Regresion Logistica"
   ]
  },
  {
   "cell_type": "code",
   "execution_count": 798,
   "metadata": {},
   "outputs": [],
   "source": [
    "eps = np.finfo(float).eps\n",
    "eps=2.718281828459045235360287471352662497757247093699959574\n",
    "\n",
    "def sigmo(z):\n",
    "    #print(\"sigmo: \", z[0])\n",
    "    return (1/(1+eps**(-z[0])))"
   ]
  },
  {
   "cell_type": "markdown",
   "metadata": {},
   "source": [
    "# Prediccion"
   ]
  },
  {
   "cell_type": "code",
   "execution_count": 799,
   "metadata": {},
   "outputs": [],
   "source": [
    "def calc(x, theta):\n",
    "    suma = 0\n",
    "    #print(\"x: \", x)\n",
    "    for j in range(x.shape[0]):\n",
    "        suma+=x[j]*theta[j]\n",
    "    return suma\n",
    "\n",
    "def predict(x, theta):\n",
    "    y2 = []\n",
    "    for i in range(x.shape[0]):\n",
    "        #print(theta)\n",
    "        y2.append(sigmo(calc(x[i,:], theta)))\n",
    "    return y2"
   ]
  },
  {
   "cell_type": "markdown",
   "metadata": {},
   "source": [
    "# Gradiente"
   ]
  },
  {
   "cell_type": "code",
   "execution_count": 822,
   "metadata": {},
   "outputs": [],
   "source": [
    "def gradiente(X,Y,theta,alpha, num_iter):\n",
    "    for i in range(num_iter):\n",
    "        first=np.array(predict(X, theta))\n",
    "        h_theta = (first.reshape(first.shape[0],1) - Y)\n",
    "        tmp = h_theta * X\n",
    "        gamma =  np.sum(tmp, axis=0).reshape(theta.shape[0],1)\n",
    "        theta = theta - ((alpha/X.shape[0]) * gamma)\n",
    "    \n",
    "    return theta"
   ]
  },
  {
   "cell_type": "markdown",
   "metadata": {},
   "source": [
    "# Funcion Costo"
   ]
  },
  {
   "cell_type": "code",
   "execution_count": 801,
   "metadata": {
    "scrolled": false
   },
   "outputs": [],
   "source": [
    "def logistic_cost(y2, y):\n",
    "    cost = 0\n",
    "    for i in range (len(y)):\n",
    "        ycal=y2[i]\n",
    "        #print(\"ycal=\", ycal, \" y=\", y[i][0])\n",
    "        cost+=(y[i][0]*np.log(ycal))+((1-y[i][0])*np.log(1-ycal))\n",
    "    \n",
    "    return cost/(-len(y))\n"
   ]
  },
  {
   "cell_type": "markdown",
   "metadata": {},
   "source": [
    "# Cargar los datos"
   ]
  },
  {
   "cell_type": "code",
   "execution_count": 802,
   "metadata": {},
   "outputs": [],
   "source": [
    "def get_y(y):\n",
    "    y=np.array(y)\n",
    "    y=y.reshape(len(y),1)\n",
    "    return y"
   ]
  },
  {
   "cell_type": "code",
   "execution_count": 803,
   "metadata": {},
   "outputs": [
    {
     "name": "stdout",
     "output_type": "stream",
     "text": [
      "[[ 0.0000e+00  2.7100e+01  2.6500e+01  2.0000e+01  5.3000e+01  4.6788e+04\n",
      "  -1.0000e+00]\n",
      " [ 1.0000e+00  2.7100e+01  2.8000e+01  2.2000e+01  3.0000e+00  5.0000e+04\n",
      "   1.0000e+00]\n",
      " [ 2.0000e+00  2.7600e+01  2.8000e+01  2.3000e+01  3.0000e+00  5.0000e+04\n",
      "   1.0000e+00]\n",
      " [ 3.0000e+00  2.7200e+01  2.6400e+01  2.8000e+01  8.0000e+00  6.0000e+04\n",
      "  -1.0000e+00]\n",
      " [ 4.0000e+00  2.8000e+01  2.4600e+01  3.0000e+01  3.0000e+00  5.0000e+04\n",
      "   1.0000e+00]\n",
      " [ 5.0000e+00  2.6400e+01  2.8400e+01  2.5000e+01  4.3000e+01  6.0235e+04\n",
      "  -1.0000e+00]\n",
      " [ 6.0000e+00  2.6100e+01  2.6900e+01  1.8000e+01  3.6400e+03  4.5000e+04\n",
      "  -1.0000e+00]\n",
      " [ 7.0000e+00  2.5700e+01  2.7900e+01  2.1000e+01  3.0000e+00  5.0000e+04\n",
      "   1.0000e+00]\n",
      " [ 8.0000e+00  2.5900e+01  2.8100e+01  2.0000e+01  3.0000e+00  5.0000e+04\n",
      "   1.0000e+00]\n",
      " [ 9.0000e+00  2.6600e+01  2.9600e+01  1.6000e+01  5.7000e+02  4.8665e+04\n",
      "  -1.0000e+00]\n",
      " [ 1.0000e+01  2.6000e+01  2.6400e+01  2.7000e+01  4.3000e+01  4.2354e+04\n",
      "  -1.0000e+00]\n",
      " [ 1.1000e+01  2.6700e+01  2.6000e+01  2.3000e+01  3.0000e+00  5.0000e+04\n",
      "   1.0000e+00]\n",
      " [ 1.2000e+01  2.6300e+01  2.4700e+01  2.5000e+01  6.7000e+01  5.1796e+04\n",
      "  -1.0000e+00]\n",
      " [ 1.3000e+01  2.6000e+01  2.8700e+01  2.9000e+01  3.0000e+00  5.0000e+04\n",
      "   1.0000e+00]\n",
      " [ 1.4000e+01  2.6300e+01  2.6900e+01  1.9000e+01  3.0000e+00  8.0093e+04\n",
      "   1.0000e+00]\n",
      " [ 1.5000e+01  2.6800e+01  2.7900e+01  2.1000e+01  2.8500e+03  3.5742e+04\n",
      "  -1.0000e+00]\n",
      " [ 1.6000e+01  2.6000e+01  2.8400e+01  2.5000e+01  2.5000e+01  4.9000e+04\n",
      "  -1.0000e+00]\n",
      " [ 1.7000e+01  2.5900e+01  2.7300e+01  1.9000e+01  3.0000e+00  5.0000e+04\n",
      "  -1.0000e+00]]\n",
      "(18, 7)\n"
     ]
    }
   ],
   "source": [
    "y=[0,0,2,0,1,0,2,2,1,0,2,0,1,2,2,2,1,1]\n",
    "size=18\n",
    "variables=7\n",
    "\n",
    "#gana\n",
    "y_gana=  [0,0,1,0,0,0,1,1,0,0,1,0,0,1,1,1,0,0]\n",
    "y_empata=[0,0,0,0,1,0,0,0,1,0,0,0,1,0,0,0,1,1]\n",
    "y_pierde=[1,1,0,1,0,1,0,0,0,1,0,1,0,0,0,0,0,0]\n",
    "\n",
    "y_gana = get_y(y_gana)\n",
    "y_empata = get_y(y_empata)\n",
    "y_pierde = get_y(y_pierde)\n",
    "\n",
    "#---------- Obtengo la data\n",
    "data = np.loadtxt('puntos.txt',delimiter=\",\")\n",
    "X = data[:,:7]\n",
    "print(X)\n",
    "print(X.shape)"
   ]
  },
  {
   "cell_type": "markdown",
   "metadata": {},
   "source": [
    "# Normalizar los datos"
   ]
  },
  {
   "cell_type": "code",
   "execution_count": 804,
   "metadata": {},
   "outputs": [
    {
     "name": "stdout",
     "output_type": "stream",
     "text": [
      "(18, 7)\n"
     ]
    }
   ],
   "source": [
    "#entre 0-1\n",
    "def normalized(array, size):\n",
    "    new_array=np.zeros(size)\n",
    "    _min=np.min(array)\n",
    "    _max=np.max(array)\n",
    "    minmax=_max-_min\n",
    "    for i in range (0,len(array)):\n",
    "        new_array[i]=(array[i]-_min)/minmax\n",
    "    \n",
    "    return new_array            \n",
    "\n",
    "for i in range (2,variables):\n",
    "    X[:,i]= normalized(X[:,i], size)\n",
    "print(X.shape)"
   ]
  },
  {
   "cell_type": "markdown",
   "metadata": {},
   "source": [
    "# Calcular theta"
   ]
  },
  {
   "cell_type": "code",
   "execution_count": 823,
   "metadata": {},
   "outputs": [],
   "source": [
    "theta_gana = np.zeros((variables,1))\n",
    "theta_empata = np.zeros((variables,1))\n",
    "theta_pierde = np.zeros((variables,1))"
   ]
  },
  {
   "cell_type": "code",
   "execution_count": 824,
   "metadata": {},
   "outputs": [
    {
     "name": "stdout",
     "output_type": "stream",
     "text": [
      "[[ 0.08981704]\n",
      " [-0.11964142]\n",
      " [ 0.91197502]\n",
      " [ 0.48391957]\n",
      " [ 3.29578857]\n",
      " [-0.14098417]\n",
      " [ 1.77970086]]\n",
      "[[ 0.20191381]\n",
      " [-0.0624879 ]\n",
      " [-2.19920079]\n",
      " [ 0.70109793]\n",
      " [-1.85362929]\n",
      " [-0.7960204 ]\n",
      " [-0.07946297]]\n",
      "[[-0.29226921]\n",
      " [ 0.07974322]\n",
      " [ 0.95745506]\n",
      " [-1.02113844]\n",
      " [-1.80184929]\n",
      " [ 0.87163605]\n",
      " [-1.67559303]]\n"
     ]
    }
   ],
   "source": [
    "#Calcular theta si gana\n",
    "theta_gana = gradiente(X,y_gana,theta_gana,0.001,100000)\n",
    "print(theta_gana)\n",
    "\n",
    "#Calcular theta si empata\n",
    "theta_empata = gradiente(X,y_empata,theta_empata,0.001,100000)\n",
    "print(theta_empata)\n",
    "\n",
    "#Calcular theta si pierde\n",
    "theta_pierde = gradiente(X,y_pierde,theta_pierde,0.001,100000)\n",
    "print(theta_pierde)\n"
   ]
  },
  {
   "cell_type": "markdown",
   "metadata": {},
   "source": [
    "# Predecir resultados"
   ]
  },
  {
   "cell_type": "code",
   "execution_count": 825,
   "metadata": {},
   "outputs": [
    {
     "name": "stdout",
     "output_type": "stream",
     "text": [
      "[0.060240828477579236, 0.3565084173392839, 0.37145285564463554, 0.08994740544164188, 0.31596129096223513, 0.14844270516220617, 0.7633727123676611, 0.5157557640593378, 0.5326649095430889, 0.27102914509115617, 0.18411032110826792, 0.5063125456438973, 0.1502717450410026, 0.7287905939290907, 0.5677780911705358, 0.81690255439694, 0.3336725886775966, 0.26483592841432557]\n",
      "[0.07225580438663126, 0.046447909699682724, 0.05726399046299575, 0.15153191022216342, 0.3597898550432472, 0.08941573403881055, 0.03387157770578718, 0.15071667596190302, 0.15741070280153244, 0.07142018961885185, 0.5036357506218124, 0.48800964723545454, 0.7038079076561236, 0.3804828348079535, 0.36504838486203334, 0.21449375782434138, 0.5339673756465286, 0.6273487547987536]\n",
      "[0.9187466023285181, 0.6652618256880091, 0.5894025172233236, 0.7748493311252671, 0.20541562189934578, 0.7643434734134247, 0.2694006713152457, 0.2451526649058119, 0.21590049703186104, 0.603788309511253, 0.232031063640272, 0.061590553605785074, 0.14635546221679696, 0.03610184889277437, 0.07064225128695722, 0.03260447510557059, 0.09261614967830671, 0.08908955293007327]\n"
     ]
    }
   ],
   "source": [
    "def predict_mult(X, thetha_gana, theta_pierde, thetha_empata):\n",
    "    y_pred_gana=predict(X,theta_gana)\n",
    "    y_pred_empata=predict(X,theta_empata)\n",
    "    y_pred_pierde=predict(X,theta_pierde)\n",
    "    res=[]\n",
    "    print(y_pred_gana)\n",
    "    print(y_pred_empata)\n",
    "    print(y_pred_pierde)\n",
    "    for i in range(len(y_pred_gana)):\n",
    "#         print(y_pred_gana[i],\"\", y_pred_empata[i],\"\", y_pred_pierde[i])\n",
    "        if (y_pred_gana[i]>y_pred_empata[i] and y_pred_gana[i]>y_pred_pierde[i]):\n",
    "            res.append(2)\n",
    "        elif (y_pred_empata[i]>y_pred_gana[i] and y_pred_empata[i]>y_pred_pierde[i]):\n",
    "            res.append(1)\n",
    "        elif (y_pred_pierde[i]>y_pred_empata[i] and y_pred_pierde[i]>y_pred_gana[i]):\n",
    "            res.append(0)\n",
    "    return res\n",
    "\n",
    "y_values_calc=predict_mult(X, theta_gana, theta_pierde, theta_empata)"
   ]
  },
  {
   "cell_type": "code",
   "execution_count": 826,
   "metadata": {},
   "outputs": [
    {
     "name": "stdout",
     "output_type": "stream",
     "text": [
      "[0, 0, 2, 0, 1, 0, 2, 2, 1, 0, 2, 0, 1, 2, 2, 2, 1, 1]\n",
      "[0, 0, 0, 0, 1, 0, 2, 2, 2, 0, 1, 2, 1, 2, 2, 2, 1, 1]\n"
     ]
    }
   ],
   "source": [
    "print(y)\n",
    "print(y_values_calc)"
   ]
  },
  {
   "cell_type": "code",
   "execution_count": 827,
   "metadata": {},
   "outputs": [
    {
     "name": "stdout",
     "output_type": "stream",
     "text": [
      "Costo Gana\n",
      "0.47200725703954155\n",
      "Costo Empata\n",
      "0.42065772565688475\n",
      "Costo Pierde\n",
      "0.39012642269380593\n"
     ]
    }
   ],
   "source": [
    "y_pred_gana=predict(X,theta_gana)\n",
    "y_pred_empata=predict(X,theta_empata)\n",
    "y_pred_pierde=predict(X,theta_pierde)\n",
    "print(\"Costo Gana\")\n",
    "print(logistic_cost(y_pred_gana, y_gana))\n",
    "print(\"Costo Empata\")\n",
    "print(logistic_cost(y_pred_empata, y_empata))\n",
    "print(\"Costo Pierde\")\n",
    "print(logistic_cost(y_pred_pierde, y_pierde))"
   ]
  },
  {
   "cell_type": "markdown",
   "metadata": {},
   "source": [
    "# Matriz de Confusion"
   ]
  },
  {
   "cell_type": "code",
   "execution_count": 810,
   "metadata": {},
   "outputs": [],
   "source": [
    "def plot_confusion_matrix(cm, classes,\n",
    "                          normalize=False,\n",
    "                          title='Confusion matrix',\n",
    "                          cmap=mpl.cm.Blues):\n",
    "    if normalize:\n",
    "        cm = cm.astype('float') / cm.sum(axis=1)[:, np.newaxis]\n",
    "        \n",
    "    mpl.imshow(cm, interpolation='nearest', cmap=cmap)\n",
    "    mpl.title(title)\n",
    "    mpl.colorbar()\n",
    "    tick_marks = np.arange(len(classes))\n",
    "    mpl.xticks(tick_marks, classes, rotation=45)\n",
    "    mpl.yticks(tick_marks, classes)\n",
    "\n",
    "    fmt = '.2f' if normalize else 'd'\n",
    "    thresh = cm.max() / 2.\n",
    "    for i, j in itertools.product(range(cm.shape[0]), range(cm.shape[1])):\n",
    "        mpl.text(j, i, format(cm[i, j], fmt),\n",
    "                 horizontalalignment=\"center\",\n",
    "                 color=\"white\" if cm[i, j] > thresh else \"black\")\n",
    "\n",
    "    mpl.tight_layout()\n",
    "    mpl.ylabel('Valores Calculados')\n",
    "    mpl.xlabel('Valores Reales')"
   ]
  },
  {
   "cell_type": "code",
   "execution_count": 811,
   "metadata": {},
   "outputs": [
    {
     "data": {
      "image/png": "[encoded data removed]",
      "text/plain": [
       "<matplotlib.figure.Figure at 0x7f940e926b70>"
      ]
     },
     "metadata": {},
     "output_type": "display_data"
    },
    {
     "data": {
      "image/png": "[encoded data removed]",
      "text/plain": [
       "<matplotlib.figure.Figure at 0x7f940ef37d68>"
      ]
     },
     "metadata": {},
     "output_type": "display_data"
    }
   ],
   "source": [
    "def conf_matr(values, y, y2):\n",
    "    mat = np.zeros((3,3), dtype=int)\n",
    "    for i in range(len(y)):\n",
    "        mat[y[i]][y2[i]]+=1    \n",
    "    names=['gana', 'empata', 'pierde']\n",
    "    mpl.figure()\n",
    "    plot_confusion_matrix(mat, classes=names,\n",
    "                          title='Matriz de confusion')\n",
    "    mpl.figure()\n",
    "    plot_confusion_matrix(mat, classes=names, normalize=True,\n",
    "                          title='Matriz de confusion normalizada')\n",
    "    \n",
    "conf_matr([0,1,2], y, y_values_calc)"
   ]
  },
  {
   "cell_type": "markdown",
   "metadata": {},
   "source": [
    "### Cross Validation"
   ]
  },
  {
   "cell_type": "code",
   "execution_count": 828,
   "metadata": {},
   "outputs": [
    {
     "name": "stdout",
     "output_type": "stream",
     "text": [
      "[[1.00000000e+01 2.60000000e+01 3.60000000e-01 7.85714286e-01\n",
      "  1.09980753e-02 1.49083448e-01 0.00000000e+00]\n",
      " [1.50000000e+01 2.68000000e+01 6.60000000e-01 3.57142857e-01\n",
      "  7.82788012e-01 0.00000000e+00 0.00000000e+00]\n",
      " [1.60000000e+01 2.60000000e+01 7.60000000e-01 6.42857143e-01\n",
      "  6.04894144e-03 2.98933508e-01 0.00000000e+00]\n",
      " [1.30000000e+01 2.60000000e+01 8.20000000e-01 9.28571429e-01\n",
      "  0.00000000e+00 3.21480914e-01 1.00000000e+00]\n",
      " [5.00000000e+00 2.64000000e+01 7.60000000e-01 6.42857143e-01\n",
      "  1.09980753e-02 5.52253613e-01 0.00000000e+00]\n",
      " [1.00000000e+00 2.71000000e+01 6.80000000e-01 4.28571429e-01\n",
      "  0.00000000e+00 3.21480914e-01 1.00000000e+00]\n",
      " [8.00000000e+00 2.59000000e+01 7.00000000e-01 2.85714286e-01\n",
      "  0.00000000e+00 3.21480914e-01 1.00000000e+00]\n",
      " [1.10000000e+01 2.67000000e+01 2.80000000e-01 5.00000000e-01\n",
      "  0.00000000e+00 3.21480914e-01 1.00000000e+00]\n",
      " [4.00000000e+00 2.80000000e+01 0.00000000e+00 1.00000000e+00\n",
      "  0.00000000e+00 3.21480914e-01 1.00000000e+00]\n",
      " [1.40000000e+01 2.63000000e+01 4.60000000e-01 2.14285714e-01\n",
      "  0.00000000e+00 1.00000000e+00 1.00000000e+00]\n",
      " [1.70000000e+01 2.59000000e+01 5.40000000e-01 2.14285714e-01\n",
      "  0.00000000e+00 3.21480914e-01 0.00000000e+00]\n",
      " [0.00000000e+00 2.71000000e+01 3.80000000e-01 2.85714286e-01\n",
      "  1.37475942e-02 2.49058646e-01 0.00000000e+00]\n",
      " [3.00000000e+00 2.72000000e+01 3.60000000e-01 8.57142857e-01\n",
      "  1.37475942e-03 5.46954973e-01 0.00000000e+00]\n",
      " [2.00000000e+00 2.76000000e+01 6.80000000e-01 5.00000000e-01\n",
      "  0.00000000e+00 3.21480914e-01 1.00000000e+00]\n",
      " [9.00000000e+00 2.66000000e+01 1.00000000e+00 0.00000000e+00\n",
      "  1.55897718e-01 2.91380127e-01 0.00000000e+00]]\n"
     ]
    },
    {
     "data": {
      "text/plain": [
       "(array([[ 0.12737417],\n",
       "        [-0.14005025],\n",
       "        [ 0.56664847],\n",
       "        [ 1.27055671],\n",
       "        [ 2.12980853],\n",
       "        [ 0.01548108],\n",
       "        [ 1.44620347]]), array([[ 0.17255529],\n",
       "        [-0.06637831],\n",
       "        [-1.3788719 ],\n",
       "        [ 0.35425633],\n",
       "        [-1.66568101],\n",
       "        [-1.12630938],\n",
       "        [ 0.38795543]]), array([[-0.30384409],\n",
       "        [ 0.12224977],\n",
       "        [ 0.34819657],\n",
       "        [-1.74515987],\n",
       "        [-0.33314881],\n",
       "        [ 0.87513195],\n",
       "        [-1.85107183]]))"
      ]
     },
     "execution_count": 828,
     "metadata": {},
     "output_type": "execute_result"
    }
   ],
   "source": [
    "def partir(x,porcent):\n",
    "    tam = x.shape[0]\n",
    "    tam_test = round(tam*porcent/100)\n",
    "    tam_train = tam-tam_test\n",
    "    arreglo = np.arange(0,tam)\n",
    "    rand = random.shuffle(arreglo)\n",
    "    train = arreglo[:tam_train]\n",
    "    test =arreglo[tam_train:]\n",
    "    \n",
    "    return train,test\n",
    "\n",
    "def construir(indices,X,y_gana, y_empata, y_pierde):\n",
    "    matrizx = np.zeros((len(indices),X.shape[1]))\n",
    "    matrizy_gana = np.zeros((len(indices),Y.shape[1]))    \n",
    "    matrizy_empata = np.zeros((len(indices),Y.shape[1]))    \n",
    "    matrizy_pierde = np.zeros((len(indices),Y.shape[1]))    \n",
    "\n",
    "    for i in range(0,len(indices)):\n",
    "        matrizx[i,:]=X[indices[i]]\n",
    "        matrizy_gana[i,:]=y_gana[indices[i]]\n",
    "        matrizy_empata[i,:]=y_empata[indices[i]]\n",
    "        matrizy_pierde[i,:]=y_pierde[indices[i]]\n",
    "\n",
    "    return matrizx,matrizy_gana, matrizy_empata, matrizy_pierde\n",
    "\n",
    "def train(X, y_gana, y_empata, y_pierde) :\n",
    "    indices = partir(X,15) #parte en 15% -> 3 datos\n",
    "    n_X, n_y_gana, n_y_empata, n_y_pierde = construir(indices[0], X, y_gana, y_empata, y_pierde)\n",
    "    \n",
    "    theta_gana = np.zeros((7,1))\n",
    "    theta_empata = np.zeros((7,1))\n",
    "    theta_pierde = np.zeros((7,1))\n",
    "    #theta si gana\n",
    "    print(n_X)\n",
    "    theta_gana = gradiente(n_X, n_y_gana,theta_gana,0.001,100000)\n",
    "    #theta si empata\n",
    "    theta_empata = gradiente(n_X, n_y_empata,theta_empata,0.001,100000)\n",
    "    #theta si pierde\n",
    "    theta_pierde = gradiente(n_X, n_y_pierde,theta_pierde,0.001,100000)\n",
    "    \n",
    "    return theta_gana, theta_empata, theta_pierde\n",
    "\n",
    "train(X, y_gana, y_empata, y_pierde)"
   ]
  },
  {
   "cell_type": "code",
   "execution_count": 219,
   "metadata": {},
   "outputs": [],
   "source": [
    "# Cross con Matrz"
   ]
  }
 ],
 "metadata": {
  "kernelspec": {
   "display_name": "Python 3",
   "language": "python",
   "name": "python3"
  },
  "language_info": {
   "codemirror_mode": {
    "name": "ipython",
    "version": 3
   },
   "file_extension": ".py",
   "mimetype": "text/x-python",
   "name": "python",
   "nbconvert_exporter": "python",
   "pygments_lexer": "ipython3",
   "version": "3.6.4"
  }
 },
 "nbformat": 4,
 "nbformat_minor": 2
}
